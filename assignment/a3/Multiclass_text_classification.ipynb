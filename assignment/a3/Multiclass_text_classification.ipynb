{
 "cells": [
  {
   "cell_type": "markdown",
   "metadata": {
    "id": "Z-44Qz4-Xd1o"
   },
   "source": [
    "# Assignment 3: Fine tuning a multiclass classification BERT model\n",
    "\n",
    "**Description:** This assignment covers fine-tuning of a multiclass classification. You will compare two different types of solutions using BERT-based models. You should also be able to develop an intuition for:\n",
    "\n",
    "\n",
    "* Working with BERT\n",
    "* Using multiple models to focus on different sub-tasks\n",
    "* Different metrics to measure the effectiveness of your model\n",
    "* Modifying your models to deal with class imbalance\n",
    "\n",
    "\n",
    "\n",
    "The assignment notebook closely follows the lesson notebooks. We will use the 20 newsgroups dataset and will leverage some of the models, or part of the code, for our current investigation.\n",
    "\n",
    "**You are strongly encouraged to read through the entire notebook before answering any questions or writing any code.**\n",
    "\n",
    "The initial part of the notebook is purely setup. We will then generate our BERT model and see if and how we can improve it.\n",
    "\n",
    "Do not try to run this entire notebook on your GCP instance as the training of models requires a GPU to work in a timely fashion. This notebook should be run on a Google Colab leveraging a GPU. By default, when you open the notebook in Colab it will try to use a GPU. Total runtime of the entire notebook (with solutions and a Colab GPU) should be about 1h.\n",
    "\n",
    "\n",
    "[![Open In Colab](https://colab.research.google.com/assets/colab-badge.svg)](https://colab.research.google.com/github/datasci-w266/2023-summer-main/blob/master/assignment/a3/Multiclass_text_classification.ipynb)\n",
    "\n",
    "The overall assignment structure is as follows:\n",
    "\n",
    "1. Setup\n",
    "\n",
    "  1.1 Libraries & Helper Functions\n",
    "\n",
    "  1.2 Data Acquisition\n",
    "\n",
    "  1.3 Training/Test/Validation Sets for BERT-based models\n",
    "\n",
    "2. Classification with a fine tuned BERT model\n",
    "\n",
    "  2.1 Create the specified BERT model\n",
    "\n",
    "  2.2 Fine tune the BERT model as directed\n",
    "\n",
    "  2.3 Examine the predictions with various metrics\n",
    "\n",
    "3. Classification using two stages\n",
    "\n",
    "  3.1 Relabel the data to group the often confused classes\n",
    "\n",
    "  3.2 Train the first stage model on the relabeled data\n",
    "\n",
    "  3.3 Separate the data for just the confused classes\n",
    "\n",
    "  3.4 Train the second stage model on the two classes\n",
    "\n",
    "  3.5 Combine and evaluate the predictions from the two stages\n",
    "\n",
    "4. Look at examples of misclassifications, see what might have changed\n",
    "\n",
    "\n",
    "\n",
    "**INSTRUCTIONS:**:\n",
    "\n",
    "* Questions are always indicated as **QUESTION:**, so you can search for this string to make sure you answered all of the questions. You are expected to fill out, run, and submit this notebook, as well as to answer the questions in the **answers** file as you did in a1 and a2.\n",
    "\n",
    "* **### YOUR CODE HERE** indicates that you are supposed to write code.\n",
    "\n",
    "* If you want to, you can run all of the cells in section 1 in bulk. This is setup work and no questions are in there. At the end of section 1 we will state all of the relevant variables that were defined and created in section 1.\n",
    "\n",
    "* **IMPORTANT NOTE:** Because the data we're using is downloaded each time we run section 1, a different split of train, validation, and test records is created.  This means that the accuracy, precision, recall, and F1 scores will change, although the delta will be small.  Please enter the values from your final run so that the answer values in your answers file correspond to the answer values in the outputs in your notebook.\n"
   ]
  },
  {
   "cell_type": "markdown",
   "metadata": {
    "id": "NK2xTV-Xisrl"
   },
   "source": [
    "### 1. Setup\n",
    "\n",
    "Lets get all our libraries and download and process our data."
   ]
  },
  {
   "cell_type": "code",
   "execution_count": 1,
   "metadata": {
    "colab": {
     "base_uri": "https://localhost:8080/"
    },
    "id": "3gzOXaFdmgO8",
    "outputId": "f88cb4b8-5825-4568-8914-2fa0e652a6a4"
   },
   "outputs": [
    {
     "name": "stdout",
     "output_type": "stream",
     "text": [
      "\u001b[2K     \u001b[90m━━━━━━━━━━━━━━━━━━━━━━━━━━━━━━━━━━━━━━━━\u001b[0m \u001b[32m7.2/7.2 MB\u001b[0m \u001b[31m68.9 MB/s\u001b[0m eta \u001b[36m0:00:00\u001b[0m\n",
      "\u001b[2K     \u001b[90m━━━━━━━━━━━━━━━━━━━━━━━━━━━━━━━━━━━━━━\u001b[0m \u001b[32m236.8/236.8 kB\u001b[0m \u001b[31m17.2 MB/s\u001b[0m eta \u001b[36m0:00:00\u001b[0m\n",
      "\u001b[2K     \u001b[90m━━━━━━━━━━━━━━━━━━━━━━━━━━━━━━━━━━━━━━━━\u001b[0m \u001b[32m7.8/7.8 MB\u001b[0m \u001b[31m38.0 MB/s\u001b[0m eta \u001b[36m0:00:00\u001b[0m\n",
      "\u001b[2K     \u001b[90m━━━━━━━━━━━━━━━━━━━━━━━━━━━━━━━━━━━━━━━━\u001b[0m \u001b[32m1.3/1.3 MB\u001b[0m \u001b[31m47.0 MB/s\u001b[0m eta \u001b[36m0:00:00\u001b[0m\n",
      "\u001b[?25h"
     ]
    }
   ],
   "source": [
    "!pip install -q transformers"
   ]
  },
  {
   "cell_type": "code",
   "execution_count": 2,
   "metadata": {
    "colab": {
     "base_uri": "https://localhost:8080/"
    },
    "id": "ULcKJUjHmkZT",
    "outputId": "d52ce3b8-8ba4-4004-e394-e9e4c5f7791b"
   },
   "outputs": [
    {
     "name": "stdout",
     "output_type": "stream",
     "text": [
      "Requirement already satisfied: pydot in /usr/local/lib/python3.10/dist-packages (1.4.2)\n",
      "Requirement already satisfied: pyparsing>=2.1.4 in /usr/local/lib/python3.10/dist-packages (from pydot) (3.1.0)\n"
     ]
    }
   ],
   "source": [
    "!pip install pydot"
   ]
  },
  {
   "cell_type": "code",
   "execution_count": 3,
   "metadata": {
    "id": "aTq7Qjqbmkfv"
   },
   "outputs": [],
   "source": [
    "from sklearn.datasets import fetch_20newsgroups\n",
    "from sklearn.model_selection import train_test_split\n",
    "from sklearn.metrics import classification_report"
   ]
  },
  {
   "cell_type": "code",
   "execution_count": 4,
   "metadata": {
    "id": "-6E-xzDawK0Q"
   },
   "outputs": [],
   "source": [
    "from collections import Counter\n",
    "import numpy as np\n",
    "import tensorflow as tf\n",
    "from tensorflow import keras\n",
    "\n",
    "import seaborn as sns\n",
    "import matplotlib.pyplot as plt\n",
    "from pprint import pprint"
   ]
  },
  {
   "cell_type": "code",
   "execution_count": 5,
   "metadata": {
    "id": "99yIOuqFXMwU"
   },
   "outputs": [],
   "source": [
    "from transformers import BertTokenizer, TFBertModel"
   ]
  },
  {
   "cell_type": "markdown",
   "metadata": {
    "id": "mswIEkjsPuRp"
   },
   "source": [
    "We're going to use the 20 newsgroups dataset as it is ideal for exploring multiclass classification.  It includes posts from 20 different newsgroups.  Our task will be to correctly label a post with it's group.  We'll download the version available from sklearn."
   ]
  },
  {
   "cell_type": "code",
   "execution_count": 6,
   "metadata": {
    "id": "UWk_PZ9hmkk0"
   },
   "outputs": [],
   "source": [
    "def read_20newsgroups(test_size=0.1):\n",
    "  # download & load 20newsgroups dataset from sklearn's repos\n",
    "  dataset = fetch_20newsgroups(subset=\"all\", shuffle=True, remove=(\"headers\", \"footers\", \"quotes\"))\n",
    "  documents = dataset.data\n",
    "  labels = dataset.target\n",
    "  # split into training & testing a return data as well as label names\n",
    "  return train_test_split(documents, labels, test_size=test_size), dataset.target_names\n",
    "\n",
    "# call the function\n",
    "(train_texts, test_texts, train_labels, test_labels), target_names = read_20newsgroups()"
   ]
  },
  {
   "cell_type": "markdown",
   "metadata": {
    "id": "8Ocyl9dnb1OM"
   },
   "source": [
    "Take a look at the records.  We basically have a long string of text and an associated label.  That label is the Usenet group where the posting occured. The records are the raw text.  They vary significantly in size."
   ]
  },
  {
   "cell_type": "code",
   "execution_count": 7,
   "metadata": {
    "colab": {
     "base_uri": "https://localhost:8080/"
    },
    "id": "O7Akxu2Umkpo",
    "outputId": "7d5ac760-bdcf-42d8-9293-693edbc96613"
   },
   "outputs": [
    {
     "data": {
      "text/plain": [
       "['I remember seeing complete instructions for making PhoneNET adapters, \\nMIDI adapters and a MacRecorder lookalike. After a short search through\\nMac.archive and info-mac I failed to see any of the above. Any pointers?',\n",
       " \"\\nThe quality of autobahns is something of a myth. The road surface\\nisn't much different to a typical TX freeway. They are better\\nin terms of lighting, safety, signs, roadmarkings etc. I'd have\\nno problem driving 130 on most US freeways, as it is, I save it\\nfor the backroads, which really are more likely to be dangerous.\\n\\n\\nIt would have to be quite severe. I don't recall any US freeway,\\nwithout road damage warnings, that i would regard as unsafe\\nat 130 in any decent, well damped car. Note that my definition\\nof decent, well damped, would exclude most typical American sedans.\\n\\n\\nI don't know where you live, but I would be much more worried\\nabout cops, other traffic etc. than the road surface at 130.\\nIt just isn't that fast or that dangerous. If you have a Probe\\nGT, no problem. The 4cyl models I have driven would be\\nlikely to be unpredictable at higher speeds.\"]"
      ]
     },
     "execution_count": 7,
     "metadata": {},
     "output_type": "execute_result"
    }
   ],
   "source": [
    "train_texts[:2]"
   ]
  },
  {
   "cell_type": "markdown",
   "metadata": {
    "id": "1eKIgSBdcHy9"
   },
   "source": [
    "Notice the \"labels\" are just integers that are an offset into the list of target names."
   ]
  },
  {
   "cell_type": "code",
   "execution_count": 8,
   "metadata": {
    "colab": {
     "base_uri": "https://localhost:8080/"
    },
    "id": "KRnu9CSQnMNN",
    "outputId": "675b2222-d20f-4763-b76a-c098d53fe0fc"
   },
   "outputs": [
    {
     "data": {
      "text/plain": [
       "array([4, 7])"
      ]
     },
     "execution_count": 8,
     "metadata": {},
     "output_type": "execute_result"
    }
   ],
   "source": [
    "train_labels[:2]"
   ]
  },
  {
   "cell_type": "markdown",
   "metadata": {
    "id": "F-ksEnmbcWBt"
   },
   "source": [
    "The variable ''target_names'' stores all of the names of the labels."
   ]
  },
  {
   "cell_type": "code",
   "execution_count": 9,
   "metadata": {
    "colab": {
     "base_uri": "https://localhost:8080/"
    },
    "id": "qvNAnCstx-3S",
    "outputId": "1b356903-9153-49e5-873d-c910d5bfdfa8"
   },
   "outputs": [
    {
     "name": "stdout",
     "output_type": "stream",
     "text": [
      "['alt.atheism', 'comp.graphics', 'comp.os.ms-windows.misc', 'comp.sys.ibm.pc.hardware', 'comp.sys.mac.hardware', 'comp.windows.x', 'misc.forsale', 'rec.autos', 'rec.motorcycles', 'rec.sport.baseball', 'rec.sport.hockey', 'sci.crypt', 'sci.electronics', 'sci.med', 'sci.space', 'soc.religion.christian', 'talk.politics.guns', 'talk.politics.mideast', 'talk.politics.misc', 'talk.religion.misc']\n"
     ]
    }
   ],
   "source": [
    "print(target_names)"
   ]
  },
  {
   "cell_type": "markdown",
   "metadata": {
    "id": "m1SmEVYOcwP6"
   },
   "source": [
    "We already have a test set and a train set.  Let's explicitly set aside part of our training set for validation purposes."
   ]
  },
  {
   "cell_type": "code",
   "execution_count": 10,
   "metadata": {
    "id": "H1toWirQAAZ8"
   },
   "outputs": [],
   "source": [
    "len(train_texts)\n",
    "valid_texts = train_texts[16000:]\n",
    "valid_labels = train_labels[16000:]\n",
    "train_texts = train_texts[:16000]\n",
    "train_labels = train_labels[:16000]"
   ]
  },
  {
   "cell_type": "markdown",
   "metadata": {
    "id": "aBMiGVwHc76-"
   },
   "source": [
    "The validation set will always have 961 records."
   ]
  },
  {
   "cell_type": "code",
   "execution_count": 11,
   "metadata": {
    "colab": {
     "base_uri": "https://localhost:8080/"
    },
    "id": "bzuXsJjwAAOr",
    "outputId": "d60d5ce7-1dab-41e4-b461-321572fc198e"
   },
   "outputs": [
    {
     "data": {
      "text/plain": [
       "961"
      ]
     },
     "execution_count": 11,
     "metadata": {},
     "output_type": "execute_result"
    }
   ],
   "source": [
    "len(valid_texts)"
   ]
  },
  {
   "cell_type": "markdown",
   "metadata": {
    "id": "SBy5EKYwdBcZ"
   },
   "source": [
    "The training set will always have 16000 records."
   ]
  },
  {
   "cell_type": "code",
   "execution_count": 12,
   "metadata": {
    "colab": {
     "base_uri": "https://localhost:8080/"
    },
    "id": "MMVgiD8SCHUk",
    "outputId": "7cc4556d-7108-4c47-e89a-4001bfeb9111"
   },
   "outputs": [
    {
     "data": {
      "text/plain": [
       "16000"
      ]
     },
     "execution_count": 12,
     "metadata": {},
     "output_type": "execute_result"
    }
   ],
   "source": [
    "len(train_texts)"
   ]
  },
  {
   "cell_type": "markdown",
   "metadata": {
    "id": "LGVOwMBKu2OW"
   },
   "source": [
    "**NOTE:** Each time you rerun the data you will draw a *DIFFERENT* set of train and test documents even though the numbers 961 and 16000 will always be the same."
   ]
  },
  {
   "cell_type": "code",
   "execution_count": 13,
   "metadata": {
    "id": "mFISqjoM335H"
   },
   "outputs": [],
   "source": [
    "#get the labels in a needed data format for validation\n",
    "npvalid_labels = np.asarray(valid_labels)"
   ]
  },
  {
   "cell_type": "markdown",
   "metadata": {
    "id": "d3T5uytRdK7I"
   },
   "source": [
    "Here are the variables we've already defined for the data:\n",
    "\n",
    "* train_texts - an array of text strings for training\n",
    "* test_texts - an array of text strings for testing\n",
    "* valid texts - an array of text strings for validation\n",
    "* train_labels - an array of integers representing the labels associated with train_texts\n",
    "* test_labels - an array of integers representing the labels associated with test_texts\n",
    "* valid_labels - an array of integers representing the labels associated with valid_texts\n",
    "* target_names - an array of label strings that correspond to the integers in the *_labels arrays\n",
    "\n",
    "### 2. Classification with a fine tuned BERT model\n",
    "\n",
    "Let's pick our BERT model.  We'll start with the base BERT model and we'll use the cased version since our data has capital and lower case letters."
   ]
  },
  {
   "cell_type": "code",
   "execution_count": 14,
   "metadata": {
    "id": "zjFWaM2ZnMIC"
   },
   "outputs": [],
   "source": [
    "#make it easier to use a variety of BERT subword models\n",
    "model_checkpoint = 'bert-base-cased'"
   ]
  },
  {
   "cell_type": "code",
   "execution_count": 15,
   "metadata": {
    "colab": {
     "base_uri": "https://localhost:8080/",
     "height": 254,
     "referenced_widgets": [
      "0e49350369fe4613a3f331cc4ea14c4e",
      "7f63b38fba6f4cc29455a9d1705f3398",
      "bce8322445694b1b8948db743cfb5347",
      "d8bf8cb851024447a01a2b2537ae50bd",
      "f1cd141054a5460385c7418abb6a1bb5",
      "e47ea429843c40e7bab6b5b7a822594a",
      "442a29b09939445c9e40f72a1c9c81b7",
      "4817d872d21944acbcd9e5140dd10d71",
      "eea2f74634034b248f28a76d60acc2d2",
      "2fb34d22d63d4b018070f9566a30e9e9",
      "729bddba142f4effbddd4a5d0ffe4315",
      "57cc83119a0a45a58e7360db04f6c41a",
      "cca391b6cc6f406e909ef1bcc1c6fee1",
      "27be5a9925af452a9e739908c63f1288",
      "fec658560f6d408e936668df52893343",
      "39b88d8907894c4abf44aa3b443a1dc4",
      "8d4b441022c6493bbb614725d765ccdf",
      "3b99010babc742eea74b2343e2e02eaa",
      "8e0fb0ff51bb45049d2dfdd14dd793cd",
      "7fe141e3d01b47519366c55835f76ae6",
      "b5b2e1dbdb2e463d9fdbdbd70151f723",
      "60815cd7e03b470a91f285fb4cc9c410",
      "0aa672dc36b142908ebf39de1380abca",
      "9477eab762bd41b3992d830c7f0dad74",
      "74a561bf2c0d41a0b95cbf7bd37b4bd1",
      "02412fa82c29432f8fcf84861b127e2a",
      "95c0929d24c94843b4d5340187ac39bd",
      "7fc6008e30e742df864435bbe11f74d9",
      "ba8a5c44816642a98d339ea4d422085d",
      "d11f0500087644e293e29887e3c55d97",
      "768eef136e764345864a62db0c567159",
      "69dd14932b0f4d039929732a13d9c830",
      "7f763029ca0e4f9d919aefe32a3fad78",
      "07a2229cc8a844daa4d89d216b5499d4",
      "aa563cfab83842fa93f5c2f747e3ab24",
      "724d1f2d5c3945bb9da341539d496e21",
      "15d6a8a512d24407b3c6e2db241ed28b",
      "9374e6da023f4f30a3c747d2404c18aa",
      "5f3835128c5b4895b4ab261a75c0cc33",
      "a5b1491b4cdb4b468d459728f326807c",
      "e3b431a5e7714b53888305dca2619f3c",
      "7baaa4bf34794ca38dddf0ecb11b2720",
      "a6978872f1fd4b9c97c7245b9473d9fc",
      "19a43659bce04880b723072d4e8f7f9b"
     ]
    },
    "id": "-7gV_GUdn9Ck",
    "outputId": "80455aa5-c489-4708-8850-2072d04791c0"
   },
   "outputs": [
    {
     "data": {
      "application/vnd.jupyter.widget-view+json": {
       "model_id": "0e49350369fe4613a3f331cc4ea14c4e",
       "version_major": 2,
       "version_minor": 0
      },
      "text/plain": [
       "Downloading (…)solve/main/vocab.txt:   0%|          | 0.00/213k [00:00<?, ?B/s]"
      ]
     },
     "metadata": {},
     "output_type": "display_data"
    },
    {
     "data": {
      "application/vnd.jupyter.widget-view+json": {
       "model_id": "57cc83119a0a45a58e7360db04f6c41a",
       "version_major": 2,
       "version_minor": 0
      },
      "text/plain": [
       "Downloading (…)okenizer_config.json:   0%|          | 0.00/29.0 [00:00<?, ?B/s]"
      ]
     },
     "metadata": {},
     "output_type": "display_data"
    },
    {
     "data": {
      "application/vnd.jupyter.widget-view+json": {
       "model_id": "0aa672dc36b142908ebf39de1380abca",
       "version_major": 2,
       "version_minor": 0
      },
      "text/plain": [
       "Downloading (…)lve/main/config.json:   0%|          | 0.00/570 [00:00<?, ?B/s]"
      ]
     },
     "metadata": {},
     "output_type": "display_data"
    },
    {
     "data": {
      "application/vnd.jupyter.widget-view+json": {
       "model_id": "07a2229cc8a844daa4d89d216b5499d4",
       "version_major": 2,
       "version_minor": 0
      },
      "text/plain": [
       "Downloading model.safetensors:   0%|          | 0.00/436M [00:00<?, ?B/s]"
      ]
     },
     "metadata": {},
     "output_type": "display_data"
    },
    {
     "name": "stderr",
     "output_type": "stream",
     "text": [
      "Some weights of the PyTorch model were not used when initializing the TF 2.0 model TFBertModel: ['cls.seq_relationship.bias', 'cls.predictions.transform.LayerNorm.bias', 'cls.predictions.transform.dense.bias', 'cls.predictions.transform.LayerNorm.weight', 'cls.seq_relationship.weight', 'cls.predictions.transform.dense.weight', 'cls.predictions.bias']\n",
      "- This IS expected if you are initializing TFBertModel from a PyTorch model trained on another task or with another architecture (e.g. initializing a TFBertForSequenceClassification model from a BertForPreTraining model).\n",
      "- This IS NOT expected if you are initializing TFBertModel from a PyTorch model that you expect to be exactly identical (e.g. initializing a TFBertForSequenceClassification model from a BertForSequenceClassification model).\n",
      "All the weights of TFBertModel were initialized from the PyTorch model.\n",
      "If your task is similar to the task the model of the checkpoint was trained on, you can already use TFBertModel for predictions without further training.\n"
     ]
    }
   ],
   "source": [
    "bert_tokenizer = BertTokenizer.from_pretrained(model_checkpoint)\n",
    "bert_model = TFBertModel.from_pretrained(model_checkpoint)"
   ]
  },
  {
   "cell_type": "markdown",
   "metadata": {
    "id": "ZJGkIHSHdilH"
   },
   "source": [
    "We're setting our maximum training record length to 200.  BERT models can handle more and after you've completed the assignment you're welcome to try larger and small sized records."
   ]
  },
  {
   "cell_type": "code",
   "execution_count": 16,
   "metadata": {
    "id": "h_59AaVznMCV"
   },
   "outputs": [],
   "source": [
    "max_length = 200"
   ]
  },
  {
   "cell_type": "markdown",
   "metadata": {
    "id": "n6d54_bqd58L"
   },
   "source": [
    "Now we'll tokenize our three data slices.  This will take a minute or two."
   ]
  },
  {
   "cell_type": "code",
   "execution_count": 17,
   "metadata": {
    "id": "bgv0nftinL6z"
   },
   "outputs": [],
   "source": [
    "# tokenize the dataset, truncate when passed `max_length`,\n",
    "# and pad with 0's when less than `max_length` and return a tf Tensor\n",
    "train_encodings = bert_tokenizer(train_texts, truncation=True, padding=True, max_length=max_length, return_tensors='tf')\n",
    "valid_encodings = bert_tokenizer(valid_texts, truncation=True, padding=True, max_length=max_length, return_tensors='tf')\n",
    "test_encodings = bert_tokenizer(test_texts, truncation=True, padding=True, max_length=max_length, return_tensors='tf')"
   ]
  },
  {
   "cell_type": "markdown",
   "metadata": {
    "id": "2gNS0Fi0emN8"
   },
   "source": [
    "Notice our input_ids for the first training record and their padding. The train_encodings also includes an array of token_type_ids and an attention_mask array."
   ]
  },
  {
   "cell_type": "code",
   "execution_count": 18,
   "metadata": {
    "colab": {
     "base_uri": "https://localhost:8080/"
    },
    "id": "XFEXxgAmnLve",
    "outputId": "c5c01b50-2f78-4fcb-f739-87cd085bbeaa"
   },
   "outputs": [
    {
     "data": {
      "text/plain": [
       "<tf.Tensor: shape=(1, 200), dtype=int32, numpy=\n",
       "array([[  101,   146,  2676,  3195,  2335,  7953,  1111,  1543, 26385,\n",
       "        22680,  1942, 16677,  1468,   117, 26574, 17243, 16677,  1468,\n",
       "         1105,   170,  6603,  2069, 10294,  6944,  1200,  1440, 10584,\n",
       "         2391,   119,  1258,   170,  1603,  3403,  1194,  6603,   119,\n",
       "        12406,  1105, 23992,   118, 23639,   146,  2604,  1106,  1267,\n",
       "         1251,  1104,  1103,  1807,   119,  6291,  1553,  1468,   136,\n",
       "          102,     0,     0,     0,     0,     0,     0,     0,     0,\n",
       "            0,     0,     0,     0,     0,     0,     0,     0,     0,\n",
       "            0,     0,     0,     0,     0,     0,     0,     0,     0,\n",
       "            0,     0,     0,     0,     0,     0,     0,     0,     0,\n",
       "            0,     0,     0,     0,     0,     0,     0,     0,     0,\n",
       "            0,     0,     0,     0,     0,     0,     0,     0,     0,\n",
       "            0,     0,     0,     0,     0,     0,     0,     0,     0,\n",
       "            0,     0,     0,     0,     0,     0,     0,     0,     0,\n",
       "            0,     0,     0,     0,     0,     0,     0,     0,     0,\n",
       "            0,     0,     0,     0,     0,     0,     0,     0,     0,\n",
       "            0,     0,     0,     0,     0,     0,     0,     0,     0,\n",
       "            0,     0,     0,     0,     0,     0,     0,     0,     0,\n",
       "            0,     0,     0,     0,     0,     0,     0,     0,     0,\n",
       "            0,     0,     0,     0,     0,     0,     0,     0,     0,\n",
       "            0,     0,     0,     0,     0,     0,     0,     0,     0,\n",
       "            0,     0,     0,     0,     0,     0,     0,     0,     0,\n",
       "            0,     0]], dtype=int32)>"
      ]
     },
     "execution_count": 18,
     "metadata": {},
     "output_type": "execute_result"
    }
   ],
   "source": [
    "train_encodings.input_ids[:1]"
   ]
  },
  {
   "cell_type": "markdown",
   "metadata": {
    "id": "23lwfDw2T6gI"
   },
   "source": [
    "Write a function to create this multiclass bert model.\n",
    "\n",
    "Keep in mind the following:\n",
    "* Each record can have one of n labels where n = the size of target_names.\n",
    "* We'll still want a hidden size layer of size 201\n",
    "* We'll want our hidden layer to make use of the **pooler output** from BERT\n",
    "* We'll also want to use dropout\n",
    "* Our classification layer will need to be appropriately sized and use the correct non-linearity for a multi-class problem.\n",
    "* Since we have multiple labels we can no longer use binary cross entropy.  Instead we need to change our loss metric to a categorical cross entropy.  Which of the two categorical cross entropy metrics will work best here?\n",
    "* Make sure that training affects **all** of the layers in BERT.\n"
   ]
  },
  {
   "cell_type": "code",
   "execution_count": 19,
   "metadata": {
    "id": "RtWMrLi4tIun"
   },
   "outputs": [],
   "source": [
    "def create_bert_multiclass_model(checkpoint = model_checkpoint,\n",
    "                                 num_classes = 20,\n",
    "                                 hidden_size = 201,\n",
    "                                 dropout=0.3,\n",
    "                                 learning_rate=0.00005):\n",
    "    \"\"\"\n",
    "    Build a simple classification model with BERT. Use the Pooler Output for classification purposes.\n",
    "    \"\"\"\n",
    "    bert_model = TFBertModel.from_pretrained(checkpoint)\n",
    "\n",
    "    ### YOUR CODE HERE\n",
    "\n",
    "    #Make sure that training affects all of the layers in BERT\n",
    "    bert_model.trainable = True\n",
    "\n",
    "    input_ids = tf.keras.layers.Input(shape=(max_length,), dtype=tf.int64, name='input_ids_layer')\n",
    "    token_type_ids = tf.keras.layers.Input(shape=(max_length,), dtype=tf.int64, name='token_type_ids_layer')\n",
    "    attention_mask = tf.keras.layers.Input(shape=(max_length,), dtype=tf.int64, name='attention_mask_layer')\n",
    "\n",
    "    bert_inputs = {'input_ids': input_ids,\n",
    "                   'token_type_ids': token_type_ids,\n",
    "                   'attention_mask': attention_mask}\n",
    "\n",
    "    bert_out = bert_model(bert_inputs)\n",
    "\n",
    "    #We'll want our hidden layer to make use of the pooler output from BERT\n",
    "    pooler_token = bert_out[1]\n",
    "\n",
    "    hidden = tf.keras.layers.Dense(hidden_size, activation='relu', name='hidden_layer')(pooler_token)\n",
    "    #We'll also want to use dropout\n",
    "    hidden = tf.keras.layers.Dropout(dropout)(hidden)\n",
    "\n",
    "    #Our classification layer will need to be appropriately sized and use the correct non-linearity for a multi-class problem\n",
    "    #From 1 to 'num_classes'\n",
    "    #sigmoid or softmax? #sigmoid if not mutually exclusive?\n",
    "    classification = tf.keras.layers.Dense(num_classes, activation='softmax',name='classification_layer')(hidden)\n",
    "    classification_model = tf.keras.Model(inputs=[input_ids, token_type_ids, attention_mask], outputs=[classification])\n",
    "\n",
    "    #Since we have multiple labels we can no longer use binary cross-entropy.\n",
    "    #Instead we need to change our loss metric to a categorical cross-entropy.\n",
    "    #Which of the two categorical cross-entropy metrics will work best here?\n",
    "        #Sparse Categorical Cross-Entropy: Used when the target labels are provided as integers.\n",
    "        #Categorical Cross-Entropy: Used when the target labels are provided as one-hot encoded vectors.\n",
    "        #Notice the \"labels\" are just integers ...\n",
    "    classification_model.compile(optimizer=tf.keras.optimizers.Adam(learning_rate=learning_rate),\n",
    "                                 loss=tf.keras.losses.SparseCategoricalCrossentropy(from_logits=False),\n",
    "                                 metrics='accuracy')\n",
    "\n",
    "    ### END YOUR CODE\n",
    "    return classification_model"
   ]
  },
  {
   "cell_type": "code",
   "execution_count": 20,
   "metadata": {
    "colab": {
     "base_uri": "https://localhost:8080/"
    },
    "id": "uR-Id158tIlH",
    "outputId": "9d9fe0bd-ac67-492c-c009-ff781dc63901"
   },
   "outputs": [
    {
     "name": "stderr",
     "output_type": "stream",
     "text": [
      "Some weights of the PyTorch model were not used when initializing the TF 2.0 model TFBertModel: ['cls.seq_relationship.bias', 'cls.predictions.transform.LayerNorm.bias', 'cls.predictions.transform.dense.bias', 'cls.predictions.transform.LayerNorm.weight', 'cls.seq_relationship.weight', 'cls.predictions.transform.dense.weight', 'cls.predictions.bias']\n",
      "- This IS expected if you are initializing TFBertModel from a PyTorch model trained on another task or with another architecture (e.g. initializing a TFBertForSequenceClassification model from a BertForPreTraining model).\n",
      "- This IS NOT expected if you are initializing TFBertModel from a PyTorch model that you expect to be exactly identical (e.g. initializing a TFBertForSequenceClassification model from a BertForSequenceClassification model).\n",
      "All the weights of TFBertModel were initialized from the PyTorch model.\n",
      "If your task is similar to the task the model of the checkpoint was trained on, you can already use TFBertModel for predictions without further training.\n"
     ]
    }
   ],
   "source": [
    "pooler_bert_model = create_bert_multiclass_model(checkpoint=model_checkpoint, num_classes=20)"
   ]
  },
  {
   "cell_type": "code",
   "execution_count": 21,
   "metadata": {
    "colab": {
     "base_uri": "https://localhost:8080/"
    },
    "id": "bMxpO16-tIaE",
    "outputId": "c9a5f175-7812-4858-d30f-910625c2efa1"
   },
   "outputs": [
    {
     "name": "stdout",
     "output_type": "stream",
     "text": [
      "Model: \"model\"\n",
      "__________________________________________________________________________________________________\n",
      " Layer (type)                   Output Shape         Param #     Connected to                     \n",
      "==================================================================================================\n",
      " attention_mask_layer (InputLay  [(None, 200)]       0           []                               \n",
      " er)                                                                                              \n",
      "                                                                                                  \n",
      " input_ids_layer (InputLayer)   [(None, 200)]        0           []                               \n",
      "                                                                                                  \n",
      " token_type_ids_layer (InputLay  [(None, 200)]       0           []                               \n",
      " er)                                                                                              \n",
      "                                                                                                  \n",
      " tf_bert_model_1 (TFBertModel)  TFBaseModelOutputWi  108310272   ['attention_mask_layer[0][0]',   \n",
      "                                thPoolingAndCrossAt               'input_ids_layer[0][0]',        \n",
      "                                tentions(last_hidde               'token_type_ids_layer[0][0]']   \n",
      "                                n_state=(None, 200,                                               \n",
      "                                 768),                                                            \n",
      "                                 pooler_output=(Non                                               \n",
      "                                e, 768),                                                          \n",
      "                                 past_key_values=No                                               \n",
      "                                ne, hidden_states=N                                               \n",
      "                                one, attentions=Non                                               \n",
      "                                e, cross_attentions                                               \n",
      "                                =None)                                                            \n",
      "                                                                                                  \n",
      " hidden_layer (Dense)           (None, 201)          154569      ['tf_bert_model_1[0][1]']        \n",
      "                                                                                                  \n",
      " dropout_74 (Dropout)           (None, 201)          0           ['hidden_layer[0][0]']           \n",
      "                                                                                                  \n",
      " classification_layer (Dense)   (None, 20)           4040        ['dropout_74[0][0]']             \n",
      "                                                                                                  \n",
      "==================================================================================================\n",
      "Total params: 108,468,881\n",
      "Trainable params: 108,468,881\n",
      "Non-trainable params: 0\n",
      "__________________________________________________________________________________________________\n"
     ]
    }
   ],
   "source": [
    "pooler_bert_model.summary()"
   ]
  },
  {
   "cell_type": "markdown",
   "metadata": {
    "id": "5chyZZnHdlf9"
   },
   "source": [
    "**QUESTION:** 2.1 How many trainable parameters are in your dense hidden layer?\n",
    "\n",
    "**QUESTION:** 2.2 How many trainable parameters are in your classification layer?"
   ]
  },
  {
   "cell_type": "code",
   "execution_count": 22,
   "metadata": {
    "colab": {
     "base_uri": "https://localhost:8080/",
     "height": 438
    },
    "id": "xe3tTWX6FVZL",
    "outputId": "d7e215cc-ade0-4933-8245-5ba617731cc9"
   },
   "outputs": [
    {
     "data": {
      "image/png": "[encoded data removed]",
      "text/plain": [
       "<IPython.core.display.Image object>"
      ]
     },
     "execution_count": 22,
     "metadata": {},
     "output_type": "execute_result"
    }
   ],
   "source": [
    "keras.utils.plot_model(pooler_bert_model, show_shapes=False, show_dtype=False, show_layer_names=True, dpi=90)"
   ]
  },
  {
   "cell_type": "code",
   "execution_count": 23,
   "metadata": {
    "colab": {
     "base_uri": "https://localhost:8080/"
    },
    "id": "aLLjb3mOtICy",
    "outputId": "d0f6e57a-0eb7-49a9-bb1e-b6552dc0373d"
   },
   "outputs": [
    {
     "name": "stdout",
     "output_type": "stream",
     "text": [
      "2000/2000 [==============================] - 771s 364ms/step - loss: 1.4087 - accuracy: 0.5775 - val_loss: 1.0532 - val_accuracy: 0.6920\n"
     ]
    }
   ],
   "source": [
    "#It takes 10 to 14 minutes to complete an epoch when using a GPU\n",
    "pooler_bert_model_history = pooler_bert_model.fit([train_encodings.input_ids, train_encodings.token_type_ids, train_encodings.attention_mask],\n",
    "                                                  train_labels,\n",
    "                                                  validation_data=([valid_encodings.input_ids, valid_encodings.token_type_ids, valid_encodings.attention_mask],\n",
    "                                                  npvalid_labels),\n",
    "                                                  batch_size=8,\n",
    "                                                  epochs=1)"
   ]
  },
  {
   "cell_type": "markdown",
   "metadata": {
    "id": "rdHlOd4LJUOH"
   },
   "source": [
    "Now we need to run evaluate against our fine-tuned model.  This will give us an overall accuracy based on the test set."
   ]
  },
  {
   "cell_type": "code",
   "execution_count": 24,
   "metadata": {
    "colab": {
     "base_uri": "https://localhost:8080/"
    },
    "id": "dPQn2tJPEGdU",
    "outputId": "62eee02d-e46c-4966-da72-09ba02b10453"
   },
   "outputs": [
    {
     "name": "stdout",
     "output_type": "stream",
     "text": [
      "59/59 [==============================] - 26s 435ms/step - loss: 1.0342 - accuracy: 0.6875\n",
      "Test loss: 1.0342355966567993\n",
      "Test accuracy: 0.6875331401824951\n"
     ]
    }
   ],
   "source": [
    "#batch 8, ML=201\n",
    "score = pooler_bert_model.evaluate([test_encodings.input_ids, test_encodings.token_type_ids, test_encodings.attention_mask],\n",
    "                                                  test_labels)\n",
    "\n",
    "print('Test loss:', score[0])\n",
    "print('Test accuracy:', score[1])"
   ]
  },
  {
   "cell_type": "markdown",
   "metadata": {
    "id": "3CnyZsXLfLJt"
   },
   "source": [
    "**QUESTION:** 2.3 What is the Test accuracy score you get from your model? (Just copy and paste the value into the answers sheet and round to five significant digits.)"
   ]
  },
  {
   "cell_type": "code",
   "execution_count": 25,
   "metadata": {
    "colab": {
     "base_uri": "https://localhost:8080/"
    },
    "id": "NS7Gp_IYEiJ_",
    "outputId": "055b1005-84e3-4e7d-d112-ea611df787e3"
   },
   "outputs": [
    {
     "name": "stdout",
     "output_type": "stream",
     "text": [
      "1/1 [==============================] - 4s 4s/step\n"
     ]
    }
   ],
   "source": [
    "#run predict for the first three elements in the test data set\n",
    "predictions = pooler_bert_model.predict([test_encodings.input_ids[:3], test_encodings.token_type_ids[:3], test_encodings.attention_mask[:3]])"
   ]
  },
  {
   "cell_type": "code",
   "execution_count": 26,
   "metadata": {
    "colab": {
     "base_uri": "https://localhost:8080/"
    },
    "id": "ymGM8QnpchnC",
    "outputId": "dacc2727-1a1d-47ae-ae88-0d966603118c"
   },
   "outputs": [
    {
     "data": {
      "text/plain": [
       "array([[3.5925077e-03, 2.5646618e-04, 1.6408578e-04, 2.0493908e-04,\n",
       "        2.3672174e-04, 3.4905775e-04, 2.3232451e-04, 5.6739495e-04,\n",
       "        2.7738491e-04, 5.0963921e-04, 3.7511892e-04, 7.7091018e-04,\n",
       "        2.1809431e-04, 1.3845689e-04, 7.4859575e-04, 1.2350017e-03,\n",
       "        9.4286224e-04, 9.8077893e-01, 5.8275824e-03, 2.5740529e-03],\n",
       "       [3.9966869e-01, 5.9142280e-03, 1.2144803e-02, 8.1148557e-03,\n",
       "        6.9092228e-03, 7.4344231e-03, 1.6004065e-02, 2.6836185e-02,\n",
       "        3.1834159e-02, 1.0285310e-02, 1.4834885e-02, 8.1264399e-02,\n",
       "        7.7194823e-03, 1.1458104e-02, 3.5702262e-02, 2.1972070e-02,\n",
       "        3.1682398e-02, 1.3864151e-01, 3.9399013e-02, 9.2179976e-02],\n",
       "       [7.6853548e-04, 1.6266359e-02, 1.9922189e-03, 6.6889875e-04,\n",
       "        2.9209693e-04, 9.7184616e-01, 6.2386855e-04, 9.5539907e-04,\n",
       "        6.9811818e-04, 9.6678130e-05, 5.0843839e-04, 5.4649374e-04,\n",
       "        7.7408546e-04, 1.1071524e-03, 5.7740131e-04, 7.5559648e-05,\n",
       "        4.6798241e-04, 1.4208650e-04, 1.0614567e-03, 5.3100201e-04]],\n",
       "      dtype=float32)"
      ]
     },
     "execution_count": 26,
     "metadata": {},
     "output_type": "execute_result"
    }
   ],
   "source": [
    "predictions"
   ]
  },
  {
   "cell_type": "code",
   "execution_count": 27,
   "metadata": {
    "colab": {
     "base_uri": "https://localhost:8080/"
    },
    "id": "-ahMJ-zwEiCs",
    "outputId": "8953db7a-c7b5-4202-fe5b-8a0d0228366c"
   },
   "outputs": [
    {
     "name": "stdout",
     "output_type": "stream",
     "text": [
      "59/59 [==============================] - 26s 440ms/step\n"
     ]
    },
    {
     "data": {
      "text/plain": [
       "<tf.Tensor: shape=(1885,), dtype=int64, numpy=array([17,  0,  5, ...,  3,  8,  7])>"
      ]
     },
     "execution_count": 27,
     "metadata": {},
     "output_type": "execute_result"
    }
   ],
   "source": [
    "#run and capture all predictions from our test set using model.predict\n",
    "### YOUR CODE HERE\n",
    "predictions_model1=pooler_bert_model.predict([test_encodings.input_ids, test_encodings.token_type_ids, test_encodings.attention_mask])\n",
    "### END YOUR CODE\n",
    "\n",
    "#now we need to get the highest probability in the distribution for each prediction\n",
    "#and store that in a tf.Tensor\n",
    "predictions_model1 = tf.argmax(predictions_model1, axis=-1)\n",
    "predictions_model1"
   ]
  },
  {
   "cell_type": "markdown",
   "metadata": {
    "id": "LGI8oA6fMWTI"
   },
   "source": [
    "There are two ways to see what's going on with our classifier.  Overall accuracy is interesting but it can be misleading.  We need to make sure that each of our categories' prediction performance is operating at an equal or higher level than the overall.\n",
    "\n",
    "Here we'll use the classification report from scikit learn.  It expects two inputs as arrays.  One is the ground truth (y_true) and the other is the associated prediction (y_pred).  This is based on gethering all the predictions from our our test set."
   ]
  },
  {
   "cell_type": "code",
   "execution_count": 28,
   "metadata": {
    "colab": {
     "base_uri": "https://localhost:8080/"
    },
    "id": "wPqioIbh2XIE",
    "outputId": "84146e6d-3f00-46a7-e450-e8e5f10ea1b2"
   },
   "outputs": [
    {
     "name": "stdout",
     "output_type": "stream",
     "text": [
      "                          precision    recall  f1-score   support\n",
      "\n",
      "             alt.atheism       0.51      0.49      0.50        75\n",
      "           comp.graphics       0.52      0.59      0.55        92\n",
      " comp.os.ms-windows.misc       0.63      0.61      0.62       103\n",
      "comp.sys.ibm.pc.hardware       0.64      0.61      0.63       103\n",
      "   comp.sys.mac.hardware       0.78      0.65      0.71       105\n",
      "          comp.windows.x       0.67      0.88      0.76        88\n",
      "            misc.forsale       0.86      0.80      0.83       113\n",
      "               rec.autos       0.71      0.79      0.75        96\n",
      "         rec.motorcycles       0.91      0.54      0.68        98\n",
      "      rec.sport.baseball       0.90      0.80      0.84       109\n",
      "        rec.sport.hockey       0.91      0.87      0.89        92\n",
      "               sci.crypt       0.70      0.66      0.68       102\n",
      "         sci.electronics       0.69      0.63      0.66       111\n",
      "                 sci.med       0.88      0.81      0.85        91\n",
      "               sci.space       0.42      0.74      0.54        85\n",
      "  soc.religion.christian       0.64      0.85      0.73        96\n",
      "      talk.politics.guns       0.74      0.67      0.71        95\n",
      "   talk.politics.mideast       0.69      0.89      0.78       103\n",
      "      talk.politics.misc       0.50      0.42      0.46        80\n",
      "      talk.religion.misc       0.25      0.04      0.07        48\n",
      "\n",
      "                accuracy                           0.69      1885\n",
      "               macro avg       0.68      0.67      0.66      1885\n",
      "            weighted avg       0.70      0.69      0.68      1885\n",
      "\n"
     ]
    }
   ],
   "source": [
    "print(classification_report(test_labels, predictions_model1.numpy(), target_names=target_names))"
   ]
  },
  {
   "cell_type": "markdown",
   "metadata": {
    "id": "ddMMQ2vBOJKj"
   },
   "source": [
    "**QUESTION:** 2.4 What is the key difference between the macro average F1 score and the weighted average F1 score?\n",
    "\n",
    "**QUESTION:** 2.5 What is the macro average F1 score you get from the classification report?\n",
    "\n",
    "Now we'll generate another very valuable visualization of what's happening with our classifier -- a confusion matrix."
   ]
  },
  {
   "cell_type": "code",
   "execution_count": 29,
   "metadata": {
    "id": "udwdL6iKEh7b"
   },
   "outputs": [],
   "source": [
    "cm = tf.math.confusion_matrix(test_labels, predictions_model1)\n",
    "cm = cm/cm.numpy().sum(axis=1)[:, tf.newaxis]"
   ]
  },
  {
   "cell_type": "markdown",
   "metadata": {
    "id": "_9YL2AlQOY4Y"
   },
   "source": [
    "And now we'll display it!"
   ]
  },
  {
   "cell_type": "code",
   "execution_count": 30,
   "metadata": {
    "colab": {
     "base_uri": "https://localhost:8080/",
     "height": 606
    },
    "id": "gh0Bxg-8EhzZ",
    "outputId": "8242dcdc-649d-4dca-fa9b-b94429ced1e4"
   },
   "outputs": [
    {
     "data": {
      "text/plain": [
       "Text(220.72222222222223, 0.5, 'True')"
      ]
     },
     "execution_count": 30,
     "metadata": {},
     "output_type": "execute_result"
    },
    {
     "data": {
      "image/png": "[encoded data removed]",
      "text/plain": [
       "<Figure size 2000x700 with 2 Axes>"
      ]
     },
     "metadata": {},
     "output_type": "display_data"
    }
   ],
   "source": [
    "plt.figure(figsize=(20,7))\n",
    "sns.heatmap(\n",
    "    cm, annot=True,\n",
    "    xticklabels=target_names,\n",
    "    yticklabels=target_names)\n",
    "plt.xlabel(\"Predicted\")\n",
    "plt.ylabel(\"True\")"
   ]
  },
  {
   "cell_type": "markdown",
   "metadata": {
    "id": "6OKhCGVDOgdl"
   },
   "source": [
    "### 3. Classification using two stages\n",
    "\n",
    "Okay, not bad.  As you can see, some categories are easier to distinguish than others. Look for the class with the lowest F1 score (it should be the one at the bottom of the list). In the confusion matrix, which other class is that one being mistaken for most often?\n",
    "\n",
    "You might notice that the categories in this dataset are somewhat heirarchical. There are more obvious differences between groups of news categories (e.g. computers vs recreation) and then subtler differences between categories within those groups (e.g. PC vs Mac, within computers).\n",
    "\n",
    "When this happens, one idea is to train a series of models, to first separate out the more obvious groups of classes, and then use more specialized sub-models to classify only a subset of the classes. Let's try that here."
   ]
  },
  {
   "cell_type": "markdown",
   "metadata": {
    "id": "E0qA4QBstsin"
   },
   "source": [
    "#### Step 1: New model with 19 classes\n",
    "\n",
    "For simplicity, we'll just combine two categories in our first step. We'll replace the label of the last class with the label of the class it's most often mistaken for. (That way, we'll have labels from 0 to 18 instead of 0 to 19, and don't have to renumber everything, though you would have to if you group them more.)"
   ]
  },
  {
   "cell_type": "code",
   "execution_count": 31,
   "metadata": {
    "colab": {
     "base_uri": "https://localhost:8080/"
    },
    "id": "RKQBt9mElkhY",
    "outputId": "3a57ad2c-210a-4326-be1b-dd7472d543dc"
   },
   "outputs": [
    {
     "name": "stdout",
     "output_type": "stream",
     "text": [
      "['alt.atheism', 'comp.graphics', 'comp.os.ms-windows.misc', 'comp.sys.ibm.pc.hardware', 'comp.sys.mac.hardware', 'comp.windows.x', 'misc.forsale', 'rec.autos', 'rec.motorcycles', 'rec.sport.baseball', 'rec.sport.hockey', 'sci.crypt', 'sci.electronics', 'sci.med', 'sci.space', 'soc.religion.christian', 'talk.politics.guns', 'talk.politics.mideast', 'talk.politics.misc', 'talk.religion.misc']\n"
     ]
    }
   ],
   "source": [
    "print(target_names)"
   ]
  },
  {
   "cell_type": "code",
   "execution_count": 32,
   "metadata": {
    "id": "b0rAv6nLmrwN"
   },
   "outputs": [],
   "source": [
    "label_to_replace = 19\n",
    "\n",
    "# label_to_replace_with = ...\n",
    "### YOUR CODE HERE\n",
    "label_to_replace_with = target_names.index('soc.religion.christian')\n",
    "\n",
    "### END YOUR CODE\n",
    "\n",
    "train_labels_19class = train_labels.copy()\n",
    "train_labels_19class[train_labels_19class == label_to_replace] = label_to_replace_with\n",
    "\n",
    "valid_labels_19class = npvalid_labels.copy()\n",
    "valid_labels_19class[valid_labels_19class == label_to_replace] = label_to_replace_with\n",
    "\n",
    "test_labels_19class = test_labels.copy()\n",
    "test_labels_19class[test_labels_19class == label_to_replace] = label_to_replace_with"
   ]
  },
  {
   "cell_type": "markdown",
   "metadata": {
    "id": "dSQd_UDQhmQd"
   },
   "source": [
    "Now let's create a new model with the same architecture, but to predict probabilities for 19 classes instead of 20. We're using all of the data in this first step, so we'll use the encodings we already preprocessed as inputs, but use the new labels that only have 19 classes."
   ]
  },
  {
   "cell_type": "code",
   "execution_count": 33,
   "metadata": {
    "colab": {
     "base_uri": "https://localhost:8080/"
    },
    "id": "s7hR7ahmmrYL",
    "outputId": "7b61c33d-3891-4cee-f58b-fdf344a90dee"
   },
   "outputs": [
    {
     "name": "stderr",
     "output_type": "stream",
     "text": [
      "Some weights of the PyTorch model were not used when initializing the TF 2.0 model TFBertModel: ['cls.seq_relationship.bias', 'cls.predictions.transform.LayerNorm.bias', 'cls.predictions.transform.dense.bias', 'cls.predictions.transform.LayerNorm.weight', 'cls.seq_relationship.weight', 'cls.predictions.transform.dense.weight', 'cls.predictions.bias']\n",
      "- This IS expected if you are initializing TFBertModel from a PyTorch model trained on another task or with another architecture (e.g. initializing a TFBertForSequenceClassification model from a BertForPreTraining model).\n",
      "- This IS NOT expected if you are initializing TFBertModel from a PyTorch model that you expect to be exactly identical (e.g. initializing a TFBertForSequenceClassification model from a BertForSequenceClassification model).\n",
      "All the weights of TFBertModel were initialized from the PyTorch model.\n",
      "If your task is similar to the task the model of the checkpoint was trained on, you can already use TFBertModel for predictions without further training.\n"
     ]
    }
   ],
   "source": [
    "bert_model_19class = create_bert_multiclass_model(checkpoint = model_checkpoint, num_classes=19)"
   ]
  },
  {
   "cell_type": "code",
   "execution_count": 34,
   "metadata": {
    "colab": {
     "base_uri": "https://localhost:8080/"
    },
    "id": "O4Qsai6UmrOj",
    "outputId": "3a69df94-368c-4947-909a-85215a49c33c"
   },
   "outputs": [
    {
     "name": "stdout",
     "output_type": "stream",
     "text": [
      "2000/2000 [==============================] - 745s 352ms/step - loss: 1.4647 - accuracy: 0.5594 - val_loss: 1.0538 - val_accuracy: 0.6920\n"
     ]
    }
   ],
   "source": [
    "bert_model_19class_history = bert_model_19class.fit([train_encodings.input_ids, train_encodings.token_type_ids, train_encodings.attention_mask],\n",
    "                                                  train_labels_19class,\n",
    "                                                  validation_data=([valid_encodings.input_ids, valid_encodings.token_type_ids, valid_encodings.attention_mask],\n",
    "                                                                   valid_labels_19class),\n",
    "                                                  batch_size=8,\n",
    "                                                  epochs=1)"
   ]
  },
  {
   "cell_type": "code",
   "execution_count": 35,
   "metadata": {
    "colab": {
     "base_uri": "https://localhost:8080/"
    },
    "id": "BkW9hMq9g9dV",
    "outputId": "89e10052-c322-4b0e-fd00-2e7665b9787d"
   },
   "outputs": [
    {
     "name": "stdout",
     "output_type": "stream",
     "text": [
      "59/59 [==============================] - 26s 440ms/step - loss: 1.0135 - accuracy: 0.7019\n",
      "Test loss: 1.0134581327438354\n",
      "Test accuracy: 0.701856791973114\n"
     ]
    }
   ],
   "source": [
    "#Evaluate the fine tuned 19-class model against the test data with 19-class labels\n",
    "### YOUR CODE HERE\n",
    "score = bert_model_19class.evaluate([test_encodings.input_ids, test_encodings.token_type_ids, test_encodings.attention_mask],\n",
    "                                                  test_labels_19class)\n",
    "### END YOUR CODE\n",
    "print('Test loss:', score[0])\n",
    "print('Test accuracy:', score[1])"
   ]
  },
  {
   "cell_type": "markdown",
   "metadata": {
    "id": "DPaUdul4hlp0"
   },
   "source": [
    "**QUESTION:**\n",
    "\n",
    "3.1 What is the test accuracy you get when you run the new first stage model with only 19 classes?\n"
   ]
  },
  {
   "cell_type": "code",
   "execution_count": 36,
   "metadata": {
    "colab": {
     "base_uri": "https://localhost:8080/"
    },
    "id": "TrWtaXSug9UR",
    "outputId": "ed6be538-9d0e-4abb-8f14-da76f7a63049"
   },
   "outputs": [
    {
     "name": "stdout",
     "output_type": "stream",
     "text": [
      "59/59 [==============================] - 28s 435ms/step\n"
     ]
    },
    {
     "data": {
      "text/plain": [
       "<tf.Tensor: shape=(1885,), dtype=int64, numpy=array([17,  0,  5, ...,  3,  8, 11])>"
      ]
     },
     "execution_count": 36,
     "metadata": {},
     "output_type": "execute_result"
    }
   ],
   "source": [
    "#run and capture all the predictions from the 19 class data\n",
    "### YOUR CODE HERE\n",
    "predictions_19class=bert_model_19class.predict([test_encodings.input_ids, test_encodings.token_type_ids, test_encodings.attention_mask])\n",
    "predictions_19class = tf.argmax(predictions_19class, axis=-1)\n",
    "### END YOUR CODE\n",
    "\n",
    "predictions_19class"
   ]
  },
  {
   "cell_type": "code",
   "execution_count": 37,
   "metadata": {
    "colab": {
     "base_uri": "https://localhost:8080/"
    },
    "id": "-nAlDV7K8T4q",
    "outputId": "eb167406-df4a-4ee2-bbdb-e7125365e0a9"
   },
   "outputs": [
    {
     "name": "stdout",
     "output_type": "stream",
     "text": [
      "                          precision    recall  f1-score   support\n",
      "\n",
      "             alt.atheism       0.41      0.39      0.40        75\n",
      "           comp.graphics       0.57      0.63      0.60        92\n",
      " comp.os.ms-windows.misc       0.70      0.59      0.64       103\n",
      "comp.sys.ibm.pc.hardware       0.60      0.46      0.52       103\n",
      "   comp.sys.mac.hardware       0.62      0.73      0.67       105\n",
      "          comp.windows.x       0.82      0.81      0.81        88\n",
      "            misc.forsale       0.77      0.86      0.81       113\n",
      "               rec.autos       0.49      0.84      0.62        96\n",
      "         rec.motorcycles       0.73      0.67      0.70        98\n",
      "      rec.sport.baseball       0.85      0.81      0.83       109\n",
      "        rec.sport.hockey       0.96      0.82      0.88        92\n",
      "               sci.crypt       0.89      0.65      0.75       102\n",
      "         sci.electronics       0.50      0.66      0.57       111\n",
      "                 sci.med       0.88      0.77      0.82        91\n",
      "               sci.space       0.75      0.64      0.69        85\n",
      "    ** COMBINED CLASS **       0.76      0.83      0.79       144\n",
      "      talk.politics.guns       0.75      0.69      0.72        95\n",
      "   talk.politics.mideast       0.91      0.83      0.87       103\n",
      "      talk.politics.misc       0.64      0.49      0.55        80\n",
      "\n",
      "                accuracy                           0.70      1885\n",
      "               macro avg       0.72      0.69      0.70      1885\n",
      "            weighted avg       0.72      0.70      0.70      1885\n",
      "\n"
     ]
    }
   ],
   "source": [
    "target_names_19class = target_names[:label_to_replace_with] \\\n",
    "                     + ['** COMBINED CLASS **'] \\\n",
    "                     + target_names[label_to_replace_with+1:19]\n",
    "\n",
    "print(classification_report(test_labels_19class, predictions_19class.numpy(),\n",
    "                            target_names=target_names_19class))"
   ]
  },
  {
   "cell_type": "markdown",
   "metadata": {
    "id": "Eh6nKilF8V7b"
   },
   "source": [
    "**QUESTION:**\n",
    "\n",
    "3.2 What is the F1 score you get for the combined class when you run the new first stage model with only 19 classes?\n"
   ]
  },
  {
   "cell_type": "markdown",
   "metadata": {
    "id": "TTZcBibxR153"
   },
   "source": [
    "#### Step 2: New model with only the two classes combined in step one\n",
    "\n",
    "Now, our first stage model is able to determine which text is one of the two often confused classes, but we need to train a more specific model to distinguish between just these two classes. Ideally, this model will only focus on the more subtle differences between these two news categories, since it doesn't have to learn everything else about the other categories.\n",
    "\n",
    "For this model, we're only going to train using the text examples that are one of the two confused categories. We'll keep the encodings we already tokenized, so we need to separate out the input_ids, token_type_ids, and attention_mask for just the rows that have one of these two labels."
   ]
  },
  {
   "cell_type": "code",
   "execution_count": 38,
   "metadata": {
    "id": "N4TmPG6B1mz0"
   },
   "outputs": [],
   "source": [
    "train_mask_2class = (train_labels_19class == label_to_replace_with)\n",
    "train_encodings_2class = {'input_ids': train_encodings.input_ids[train_mask_2class],\n",
    "                          'token_type_ids': train_encodings.token_type_ids[train_mask_2class],\n",
    "                          'attention_mask': train_encodings.attention_mask[train_mask_2class]}\n",
    "train_labels_2class = train_labels.copy()[train_mask_2class]\n",
    "train_labels_2class = (train_labels_2class == label_to_replace_with).astype(int)\n",
    "\n",
    "valid_mask_2class = (valid_labels_19class == label_to_replace_with)\n",
    "valid_encodings_2class = {'input_ids': valid_encodings.input_ids[valid_mask_2class],\n",
    "                          'token_type_ids': valid_encodings.token_type_ids[valid_mask_2class],\n",
    "                          'attention_mask': valid_encodings.attention_mask[valid_mask_2class]}\n",
    "valid_labels_2class = npvalid_labels.copy()[valid_mask_2class]\n",
    "valid_labels_2class = (valid_labels_2class == label_to_replace_with).astype(int)\n",
    "\n",
    "test_mask_2class = (test_labels_19class == label_to_replace_with)\n",
    "test_encodings_2class = {'input_ids': test_encodings.input_ids[test_mask_2class],\n",
    "                          'token_type_ids': test_encodings.token_type_ids[test_mask_2class],\n",
    "                          'attention_mask': test_encodings.attention_mask[test_mask_2class]}\n",
    "test_labels_2class = test_labels.copy()[test_mask_2class]\n",
    "test_labels_2class = (test_labels_2class == label_to_replace_with).astype(int)"
   ]
  },
  {
   "cell_type": "code",
   "execution_count": 39,
   "metadata": {
    "colab": {
     "base_uri": "https://localhost:8080/"
    },
    "id": "xwTzhDVp9YTT",
    "outputId": "017ec0f5-0b40-49a0-ffcb-1ded28453149"
   },
   "outputs": [
    {
     "data": {
      "text/plain": [
       "(1405,)"
      ]
     },
     "execution_count": 39,
     "metadata": {},
     "output_type": "execute_result"
    }
   ],
   "source": [
    "train_labels_2class.shape"
   ]
  },
  {
   "cell_type": "code",
   "execution_count": 40,
   "metadata": {
    "colab": {
     "base_uri": "https://localhost:8080/"
    },
    "id": "O76HzIGh9dct",
    "outputId": "411f26c1-ec99-4628-c2a0-622f7edba49e"
   },
   "outputs": [
    {
     "data": {
      "text/plain": [
       "array([1, 1, 1, ..., 1, 1, 0])"
      ]
     },
     "execution_count": 40,
     "metadata": {},
     "output_type": "execute_result"
    }
   ],
   "source": [
    "train_labels_2class"
   ]
  },
  {
   "cell_type": "markdown",
   "metadata": {
    "id": "3c7M7sFCucU8"
   },
   "source": [
    "Create and train a new model with the same architecture as before, except that it only predicts two classes. (Note that we could change this to a binary prediction model, but we'll keep it multiclass for consistency here.)"
   ]
  },
  {
   "cell_type": "code",
   "execution_count": 41,
   "metadata": {
    "colab": {
     "base_uri": "https://localhost:8080/"
    },
    "id": "dNe5zVOflttk",
    "outputId": "3e9febed-3db1-4a4f-9e8e-60a2762857a9"
   },
   "outputs": [
    {
     "name": "stderr",
     "output_type": "stream",
     "text": [
      "Some weights of the PyTorch model were not used when initializing the TF 2.0 model TFBertModel: ['cls.seq_relationship.bias', 'cls.predictions.transform.LayerNorm.bias', 'cls.predictions.transform.dense.bias', 'cls.predictions.transform.LayerNorm.weight', 'cls.seq_relationship.weight', 'cls.predictions.transform.dense.weight', 'cls.predictions.bias']\n",
      "- This IS expected if you are initializing TFBertModel from a PyTorch model trained on another task or with another architecture (e.g. initializing a TFBertForSequenceClassification model from a BertForPreTraining model).\n",
      "- This IS NOT expected if you are initializing TFBertModel from a PyTorch model that you expect to be exactly identical (e.g. initializing a TFBertForSequenceClassification model from a BertForSequenceClassification model).\n",
      "All the weights of TFBertModel were initialized from the PyTorch model.\n",
      "If your task is similar to the task the model of the checkpoint was trained on, you can already use TFBertModel for predictions without further training.\n"
     ]
    }
   ],
   "source": [
    "bert_model_2class = create_bert_multiclass_model(checkpoint=model_checkpoint, num_classes=2)"
   ]
  },
  {
   "cell_type": "code",
   "execution_count": 42,
   "metadata": {
    "colab": {
     "base_uri": "https://localhost:8080/"
    },
    "id": "-F5DM3zGlvSd",
    "outputId": "9a0fcd21-3104-4a4a-8160-a5fb6b80c240"
   },
   "outputs": [
    {
     "name": "stdout",
     "output_type": "stream",
     "text": [
      "176/176 [==============================] - 119s 403ms/step - loss: 0.6731 - accuracy: 0.6420 - val_loss: 0.5715 - val_accuracy: 0.7237\n"
     ]
    }
   ],
   "source": [
    "bert_model_2class_history = bert_model_2class.fit([train_encodings_2class['input_ids'],\n",
    "                                                   train_encodings_2class['token_type_ids'],\n",
    "                                                   train_encodings_2class['attention_mask']],\n",
    "                                                  train_labels_2class,\n",
    "                                                  validation_data=([valid_encodings_2class['input_ids'],\n",
    "                                                                    valid_encodings_2class['token_type_ids'],\n",
    "                                                                    valid_encodings_2class['attention_mask']],\n",
    "                                                                   valid_labels_2class),\n",
    "                                                  batch_size=8,\n",
    "                                                  epochs=1)"
   ]
  },
  {
   "cell_type": "code",
   "execution_count": 43,
   "metadata": {
    "colab": {
     "base_uri": "https://localhost:8080/"
    },
    "id": "UNEUeufxp1g5",
    "outputId": "6fb56de9-93b6-4282-e208-ddb5425def54"
   },
   "outputs": [
    {
     "name": "stdout",
     "output_type": "stream",
     "text": [
      "5/5 [==============================] - 2s 392ms/step - loss: 0.5308 - accuracy: 0.7917\n",
      "Test loss: 0.5307903289794922\n",
      "Test accuracy: 0.7916666865348816\n"
     ]
    }
   ],
   "source": [
    "#Evaluate the two-class model against the two-class test set.\n",
    "### YOUR CODE HERE\n",
    "score = bert_model_2class.evaluate([test_encodings_2class['input_ids'], test_encodings_2class['token_type_ids'], test_encodings_2class['attention_mask']],\n",
    "                                                  test_labels_2class)\n",
    "### END YOUR CODE\n",
    "print('Test loss:', score[0])\n",
    "print('Test accuracy:', score[1])"
   ]
  },
  {
   "cell_type": "code",
   "execution_count": 44,
   "metadata": {
    "colab": {
     "base_uri": "https://localhost:8080/"
    },
    "id": "aPuN8_gaESJZ",
    "outputId": "3d9b2e20-0623-40ab-fde7-6f8b914cc457"
   },
   "outputs": [
    {
     "name": "stdout",
     "output_type": "stream",
     "text": [
      "5/5 [==============================] - 5s 376ms/step\n"
     ]
    },
    {
     "data": {
      "text/plain": [
       "<tf.Tensor: shape=(144,), dtype=int64, numpy=\n",
       "array([1, 1, 1, 1, 0, 1, 1, 1, 1, 1, 0, 1, 1, 1, 0, 1, 1, 1, 1, 0, 1, 1,\n",
       "       1, 0, 1, 0, 0, 1, 1, 1, 1, 1, 0, 0, 1, 1, 1, 1, 1, 1, 1, 1, 1, 1,\n",
       "       1, 1, 1, 1, 1, 1, 0, 1, 1, 1, 1, 1, 1, 0, 1, 0, 0, 0, 1, 0, 1, 1,\n",
       "       1, 1, 0, 1, 1, 1, 0, 1, 1, 1, 1, 1, 1, 0, 1, 0, 1, 1, 1, 1, 1, 1,\n",
       "       1, 1, 0, 1, 1, 0, 0, 1, 1, 1, 1, 0, 1, 1, 0, 1, 1, 1, 0, 1, 0, 1,\n",
       "       0, 1, 1, 0, 1, 1, 1, 0, 1, 1, 1, 1, 1, 1, 1, 1, 1, 0, 0, 1, 1, 1,\n",
       "       0, 1, 1, 1, 1, 1, 1, 1, 1, 0, 0, 1])>"
      ]
     },
     "execution_count": 44,
     "metadata": {},
     "output_type": "execute_result"
    }
   ],
   "source": [
    "#run and capture all the predictions from the 2-class test data\n",
    "### YOUR CODE HERE\n",
    "predictions_2class = bert_model_2class.predict([test_encodings_2class['input_ids'], test_encodings_2class['token_type_ids'], test_encodings_2class['attention_mask']])\n",
    "predictions_2class = tf.argmax(predictions_2class, axis=-1)\n",
    "### END YOUR CODE\n",
    "predictions_2class"
   ]
  },
  {
   "cell_type": "code",
   "execution_count": 45,
   "metadata": {
    "colab": {
     "base_uri": "https://localhost:8080/"
    },
    "id": "zEnHd3ijESPH",
    "outputId": "9ed5cdc6-34d4-41a6-d6c0-58a58975d274"
   },
   "outputs": [
    {
     "name": "stdout",
     "output_type": "stream",
     "text": [
      "              precision    recall  f1-score   support\n",
      "\n",
      "           0       0.76      0.54      0.63        48\n",
      "           1       0.80      0.92      0.85        96\n",
      "\n",
      "    accuracy                           0.79       144\n",
      "   macro avg       0.78      0.73      0.74       144\n",
      "weighted avg       0.79      0.79      0.78       144\n",
      "\n"
     ]
    }
   ],
   "source": [
    "# Run the sklearn classification_report again with the 2-class predictions\n",
    "### YOUR CODE HERE\n",
    "#Note 0 = label_to_replace; 1 = label_to_replace_with\n",
    "print(classification_report(test_labels_2class, predictions_2class.numpy()))\n",
    "### END YOUR CODE"
   ]
  },
  {
   "cell_type": "markdown",
   "metadata": {
    "id": "1aTDW3JBut1P"
   },
   "source": [
    "**QUESTION:**\n",
    "\n",
    "3.3 What is the macro average F1 score you get when you run the new second stage model with only 2 classes?"
   ]
  },
  {
   "cell_type": "markdown",
   "metadata": {
    "id": "90DMNd_Nuzgz"
   },
   "source": [
    "#### Step 3: Combine the predicted labels from the two steps\n",
    "\n",
    "To combine our models into two steps, start with the predictions from the first step. Keep all predicted labels except the ones with a predicted value of label_to_replace_with (the label we gave to both of the confused classes in the first step).\n",
    "\n",
    "Wherever the first model predicted the combined category, we'll replace the predictions with the label from the second model. If we used these models in inference, we'd only send an example to the second model if the first model predicted that it was from the combined class."
   ]
  },
  {
   "cell_type": "code",
   "execution_count": 46,
   "metadata": {
    "colab": {
     "base_uri": "https://localhost:8080/"
    },
    "id": "czf7y8Ha5hu-",
    "outputId": "f47feec1-bbf0-4ce4-ccfd-1133fab7802c"
   },
   "outputs": [
    {
     "name": "stdout",
     "output_type": "stream",
     "text": [
      "5/5 [==============================] - 2s 417ms/step\n"
     ]
    },
    {
     "data": {
      "text/plain": [
       "array([17,  0,  5, ...,  3,  8, 11])"
      ]
     },
     "execution_count": 46,
     "metadata": {},
     "output_type": "execute_result"
    }
   ],
   "source": [
    "# Now get the examples that the first model predicted as in the combined class\n",
    "test_mask_2class = (predictions_19class.numpy() == label_to_replace_with)\n",
    "test_encodings_2class = {'input_ids': test_encodings.input_ids[test_mask_2class],\n",
    "                         'token_type_ids': test_encodings.token_type_ids[test_mask_2class],\n",
    "                         'attention_mask': test_encodings.attention_mask[test_mask_2class]}\n",
    "\n",
    "# Run those examples through the step 2 model and save the predictions\n",
    "predictions_2class = bert_model_2class.predict([test_encodings_2class['input_ids'],\n",
    "                                                test_encodings_2class['token_type_ids'],\n",
    "                                                test_encodings_2class['attention_mask']],)\n",
    "predictions_2class = tf.argmax(predictions_2class, axis=-1)\n",
    "\n",
    "# Replace the step 2 model's predicted labels with the original values from the 20-class dataset\n",
    "predictions_2class = predictions_2class.numpy()\n",
    "predictions_2class[predictions_2class == 0] = label_to_replace\n",
    "predictions_2class[predictions_2class == 1] = label_to_replace_with\n",
    "\n",
    "# Combine the labels from both steps for the full test dataset\n",
    "predictions_2steps = predictions_19class.numpy()\n",
    "predictions_2steps[test_mask_2class] = predictions_2class\n",
    "\n",
    "predictions_2steps"
   ]
  },
  {
   "cell_type": "markdown",
   "metadata": {
    "id": "dxUBa20mv0Iq"
   },
   "source": [
    "Now let's look at the classification report and confusion matrix, using the combined predictions from our two step model (compared to the original labels). Did the overall results get better?"
   ]
  },
  {
   "cell_type": "code",
   "execution_count": 47,
   "metadata": {
    "colab": {
     "base_uri": "https://localhost:8080/"
    },
    "id": "bbtOD45X6QgO",
    "outputId": "0dcda48a-b6cc-412b-dfd2-96c05d36b9ba"
   },
   "outputs": [
    {
     "name": "stdout",
     "output_type": "stream",
     "text": [
      "                          precision    recall  f1-score   support\n",
      "\n",
      "             alt.atheism       0.41      0.39      0.40        75\n",
      "           comp.graphics       0.57      0.63      0.60        92\n",
      " comp.os.ms-windows.misc       0.70      0.59      0.64       103\n",
      "comp.sys.ibm.pc.hardware       0.60      0.46      0.52       103\n",
      "   comp.sys.mac.hardware       0.62      0.73      0.67       105\n",
      "          comp.windows.x       0.82      0.81      0.81        88\n",
      "            misc.forsale       0.77      0.86      0.81       113\n",
      "               rec.autos       0.49      0.84      0.62        96\n",
      "         rec.motorcycles       0.73      0.67      0.70        98\n",
      "      rec.sport.baseball       0.85      0.81      0.83       109\n",
      "        rec.sport.hockey       0.96      0.82      0.88        92\n",
      "               sci.crypt       0.89      0.65      0.75       102\n",
      "         sci.electronics       0.50      0.66      0.57       111\n",
      "                 sci.med       0.88      0.77      0.82        91\n",
      "               sci.space       0.75      0.64      0.69        85\n",
      "  soc.religion.christian       0.69      0.84      0.76        96\n",
      "      talk.politics.guns       0.75      0.69      0.72        95\n",
      "   talk.politics.mideast       0.91      0.83      0.87       103\n",
      "      talk.politics.misc       0.64      0.49      0.55        80\n",
      "      talk.religion.misc       0.33      0.27      0.30        48\n",
      "\n",
      "                accuracy                           0.69      1885\n",
      "               macro avg       0.69      0.67      0.68      1885\n",
      "            weighted avg       0.70      0.69      0.69      1885\n",
      "\n"
     ]
    }
   ],
   "source": [
    "# Run the sklearn classification_report with all 20 classes from the 2-step predictions\n",
    "### YOUR CODE HERE\n",
    "#prediction_2step is already an array.\n",
    "print(classification_report(test_labels, predictions_2steps, target_names=target_names))\n",
    "### END YOUR CODE"
   ]
  },
  {
   "cell_type": "code",
   "execution_count": 48,
   "metadata": {
    "id": "GoxOfneGDG60"
   },
   "outputs": [],
   "source": [
    "cm = tf.math.confusion_matrix(test_labels, predictions_2steps)\n",
    "cm = cm/cm.numpy().sum(axis=1)[:, tf.newaxis]"
   ]
  },
  {
   "cell_type": "code",
   "execution_count": 49,
   "metadata": {
    "colab": {
     "base_uri": "https://localhost:8080/",
     "height": 606
    },
    "id": "of7FDh3CDHGy",
    "outputId": "0e63e0ed-6a36-43ec-b3f1-a3fa56ba4c06"
   },
   "outputs": [
    {
     "data": {
      "text/plain": [
       "Text(220.72222222222223, 0.5, 'True')"
      ]
     },
     "execution_count": 49,
     "metadata": {},
     "output_type": "execute_result"
    },
    {
     "data": {
      "image/png": "[encoded data removed]",
      "text/plain": [
       "<Figure size 2000x700 with 2 Axes>"
      ]
     },
     "metadata": {},
     "output_type": "display_data"
    }
   ],
   "source": [
    "plt.figure(figsize=(20,7))\n",
    "sns.heatmap(\n",
    "    cm, annot=True,\n",
    "    xticklabels=target_names,\n",
    "    yticklabels=target_names)\n",
    "plt.xlabel(\"Predicted\")\n",
    "plt.ylabel(\"True\")"
   ]
  },
  {
   "cell_type": "markdown",
   "metadata": {
    "id": "8jXBmgS2iXDI"
   },
   "source": [
    "**QUESTION:**\n",
    "\n",
    "3.4 What is the macro average F1 score you get from the combined two-step model?\n",
    "\n",
    "3.5 What is the difference in points between the macro weighted F1 score for the original model and the combined two-step model?\n",
    "\n",
    "3.6 What is the new F1 score for the last category (i.e. label_to_replace, the one that had the lowest F1 score in the original model)?\n",
    "\n",
    "3.7 What is the new F1 score for the other category that you combined with the last category in the two-step model (i.e. label_to_replace_with)?\n",
    "\n",
    "3.8 Which metric (precision or recall) is now lower for the other category (i.e. label_to_replace_with)?"
   ]
  },
  {
   "cell_type": "markdown",
   "metadata": {
    "id": "coyVPop8SuG9"
   },
   "source": [
    "### Look at examples of misclassifications\n",
    "\n",
    "What happened in the two-step model? Did everything improve, or did something get worse? We were concerned about the last news category, which had a very low F1 score in the original model. In the two-step model, the F1 score for that category should have gone up.\n",
    "\n",
    "But for the other category that the original model often confused with the last category, the F1 score might have gone down. In particular, one of the two component metrics, precision or recall, probably went down. (We ask you which one went down in question 3.7 above.)\n",
    "\n",
    "We might be able to tell what happened from the confusion matrix, but it's also always a good idea to look at actual examples that were misclassified, to see if we can spot any patterns. We can also isolate more specific examples, like test examples that the original model got right, but the two-step model got wrong. Let's do that below.\n",
    "\n",
    "**CRITICAL NOTE:**  If nothing prints out when you run the code below, there are two possibilities.  The first is that there is some error in the code or variable names you have created in earlier cells.  The second possibility is that given your current train, validation, and test split, the second model predicted the \"label_to_replace_with\" class and the first model did so too.  This is unlikely but it is possible. In either case, you must go back and re-run the *ENTIRE* notebook to make sure you get a new train, validation, and test split which will allow you to observe the first and second models disagreeing. Please make sure you enter the metric values from this new run into your answers file."
   ]
  },
  {
   "cell_type": "code",
   "execution_count": 50,
   "metadata": {
    "id": "Lj98aBdmNMrE"
   },
   "outputs": [],
   "source": [
    "# Make a vector the length of our test set, with 1 if the second model predicted the\n",
    "# \"label_to_replace_with\" class, and 0s otherwise\n",
    "select_predictions = (predictions_2steps == label_to_replace_with)\n"
   ]
  },
  {
   "cell_type": "code",
   "execution_count": 51,
   "metadata": {
    "id": "vaBVzlNXdsWN"
   },
   "outputs": [],
   "source": [
    "# Now only keep a 1 if that was not the correct label, i.e. it was a false positive\n",
    "select_predictions = select_predictions * (test_labels != label_to_replace_with)"
   ]
  },
  {
   "cell_type": "code",
   "execution_count": 52,
   "metadata": {
    "id": "E05K9v-RdsLT"
   },
   "outputs": [],
   "source": [
    "# And now only keep a 1 if the original model predicted the correct label instead\n",
    "select_predictions = select_predictions * (test_labels == predictions_model1.numpy())"
   ]
  },
  {
   "cell_type": "code",
   "execution_count": 53,
   "metadata": {
    "colab": {
     "base_uri": "https://localhost:8080/"
    },
    "id": "x4dEwbnc_6qr",
    "outputId": "b51657da-1ba2-4dfa-9d68-9cc7c0a0614d"
   },
   "outputs": [
    {
     "name": "stdout",
     "output_type": "stream",
     "text": [
      "Prediction: model1 = talk.politics.mideast, model2 = soc.religion.christian):\n",
      "Text: ....  Thanks for posting the references. I do not normally read t.p.m., and I posted my request for references because Jim's article was cross-posted to soc.culture.jewish. Allegations of Jewish disrespect for the objects and buildings of other religions are one of antisemitic stereotypes that permeate western culture, and rumors of church and Host desacration probably caused more pogroms than blood libel. The stereotypes that pervade our culture create cognitive illusions that reify those stereotypes. Therefore any claim that appears to reify a stereotype should be treated by decent people with utmost suspicion until and unless documented. If such a claim is cross-posted to a news group in which it has not been documented before, such as s.c.j, a reference should be given the first time it appears.  Now that the claim has been documented, I regard the whole episode as disgusting and shameful. Especially so because the official who failed to provide proper temporary facilities for the \n",
      "\n",
      "\n",
      "Prediction: model1 = alt.atheism, model2 = soc.religion.christian):\n",
      "Text: Yesterday, I got the chance to hear Kurt Vonnegut speak at the University of New Hampshire. Vonnegut succeeded Isaac Asimov as the  (honorary?) head of the American Humanist Association. (Vonnegut is an atheist, and so was Asimov) Before Asimov's funeral, Vonnegut stood up and said about Asimov, \"He's in heaven now,\" which ignited uproarious  laughter in the room. (from the people he was speaking to around the time of the funeral)  \t \"It's the funniest thing I could have possibly said to a room full of humanists,\" Vonnegut said at yesterday's lecture.            If Vonnegut comes to speak at your university, I highly recommend going to see him even if you've never read any of his novels. In my opinion, he's the greatest living humorist. (greatest living humanist humorist as well)      Peace,\n",
      "\n",
      "\n",
      "Prediction: model1 = alt.atheism, model2 = soc.religion.christian):\n",
      "Text:   Well, that's the question, isn't it?  The goals are probably not all that obvious.  We can set up a few goals, like happiness and liberty and the golden rule, etc.  But these goals aren't inherent.  They have to be defined before an objective system is possible.   It is not too difficult, one you have goals in mind, and absolute knoweldge of everyone's intent, etc.   Omniscience is fine, as long as information is not given away.  Isn't this the resolution of the free will problem?  An interactive omniscient being changes the situation.   Well, I was speaking about an objective system in general.  I didn't mention a specific goal, which would be necessary to determine the morality of an action.\n",
      "\n",
      "\n",
      "Prediction: model1 = alt.atheism, model2 = soc.religion.christian):\n",
      "Text: 1.  Did you read the FAQs?  2.  If NO, Read the FAQs.  3.  IF YES, you wouldn't have posted such drivel.  The \"Lord, Liar     or Lunatic\" argument is a false trilemma.  Even if you disprove     Liar and Lunatic (which you haven't), you have not eliminated     the other possibilities, such as Mistaken, Misdirected, or     Misunderstood.  You have arbitrarily set up three and only     three possibilities without considering others.  4.  Read a good book on rhetoric and critical thinking.  If     you think the \"Lord, Liar, or Lunatic\" discussion is an     example of a good argument, you are in need of learning.  5.  Read the FAQs again, especially \"Constructing a Logical     Argument.\"  Ignore these instructions at your peril.  Disobeying them leaves you open for righteous flaming.   --  Maddi Hausmann                       madhaus@netcom.com Centigram Communications Corp        San Jose California  408/428-3553\n",
      "\n",
      "\n"
     ]
    }
   ],
   "source": [
    "# Print out the original and clean text of the examples that met the above conditions\n",
    "for i in np.where(select_predictions)[0]:\n",
    "\n",
    "    print('Prediction: model1 = %s, model2 = %s):\\nText: %s\\n\\n' %\n",
    "          (target_names[predictions_model1[i]],\n",
    "           target_names[predictions_2steps[i]],\n",
    "           test_texts[i][:1000].replace('\\n', ' ')))"
   ]
  },
  {
   "cell_type": "markdown",
   "metadata": {
    "id": "ppncPlCzzz0B"
   },
   "source": [
    "**QUESTION:**\n",
    "\n",
    "4.1 Why do you think the two-step model got these examples wrong, when the original model got them right?\n",
    "\n",
    "- A. The two-step model saw less examples of the \"label_to_replace\" class, because we replaced them with the \"label_to_replace_with\" examples. So it didn't learn the kind of text in that class as well as the original model.\n",
    "\n",
    "- B. In the two-step process, the step 1 model overpredicted the combined class, and the step 2 model overpredicted the \"label_to_replace_with\" class. A third class is now getting mistaken more often for the \"label_to_replace_with\" class, than in the original model.\n",
    "\n",
    "- C. It's probably just random that the original model got these specific examples right and the two-step model got them wrong.\n",
    "\n",
    "\n",
    "\n",
    "4.2 Is there anything you might try next, to try to make the two-step model better?\n",
    "\n",
    "- A. Try to balance the training data across classes at each step, or add class weights when calling model.fit.\n",
    "\n",
    "- B. Try to combine another similar category with the two easily confused ones, for a step 1 model with 18 classes and the step 2 model with 3 classes.\n",
    "\n",
    "- C. Try both A and B"
   ]
  },
  {
   "cell_type": "code",
   "execution_count": null,
   "metadata": {
    "id": "r0jHs1u8Mxlk"
   },
   "outputs": [],
   "source": []
  }
 ],
 "metadata": {
  "accelerator": "GPU",
  "colab": {
   "collapsed_sections": [
    "NK2xTV-Xisrl"
   ],
   "gpuType": "T4",
   "provenance": []
  },
  "kernelspec": {
   "display_name": "Python 3",
   "language": "python",
   "name": "python3"
  },
  "language_info": {
   "codemirror_mode": {
    "name": "ipython",
    "version": 3
   },
   "file_extension": ".py",
   "mimetype": "text/x-python",
   "name": "python",
   "nbconvert_exporter": "python",
   "pygments_lexer": "ipython3",
   "version": "3.8.5"
  },
  "widgets": {
   "application/vnd.jupyter.widget-state+json": {
    "02412fa82c29432f8fcf84861b127e2a": {
     "model_module": "@jupyter-widgets/controls",
     "model_module_version": "1.5.0",
     "model_name": "HTMLModel",
     "state": {
      "_dom_classes": [],
      "_model_module": "@jupyter-widgets/controls",
      "_model_module_version": "1.5.0",
      "_model_name": "HTMLModel",
      "_view_count": null,
      "_view_module": "@jupyter-widgets/controls",
      "_view_module_version": "1.5.0",
      "_view_name": "HTMLView",
      "description": "",
      "description_tooltip": null,
      "layout": "IPY_MODEL_69dd14932b0f4d039929732a13d9c830",
      "placeholder": "​",
      "style": "IPY_MODEL_7f763029ca0e4f9d919aefe32a3fad78",
      "value": " 570/570 [00:00&lt;00:00, 12.5kB/s]"
     }
    },
    "07a2229cc8a844daa4d89d216b5499d4": {
     "model_module": "@jupyter-widgets/controls",
     "model_module_version": "1.5.0",
     "model_name": "HBoxModel",
     "state": {
      "_dom_classes": [],
      "_model_module": "@jupyter-widgets/controls",
      "_model_module_version": "1.5.0",
      "_model_name": "HBoxModel",
      "_view_count": null,
      "_view_module": "@jupyter-widgets/controls",
      "_view_module_version": "1.5.0",
      "_view_name": "HBoxView",
      "box_style": "",
      "children": [
       "IPY_MODEL_aa563cfab83842fa93f5c2f747e3ab24",
       "IPY_MODEL_724d1f2d5c3945bb9da341539d496e21",
       "IPY_MODEL_15d6a8a512d24407b3c6e2db241ed28b"
      ],
      "layout": "IPY_MODEL_9374e6da023f4f30a3c747d2404c18aa"
     }
    },
    "0aa672dc36b142908ebf39de1380abca": {
     "model_module": "@jupyter-widgets/controls",
     "model_module_version": "1.5.0",
     "model_name": "HBoxModel",
     "state": {
      "_dom_classes": [],
      "_model_module": "@jupyter-widgets/controls",
      "_model_module_version": "1.5.0",
      "_model_name": "HBoxModel",
      "_view_count": null,
      "_view_module": "@jupyter-widgets/controls",
      "_view_module_version": "1.5.0",
      "_view_name": "HBoxView",
      "box_style": "",
      "children": [
       "IPY_MODEL_9477eab762bd41b3992d830c7f0dad74",
       "IPY_MODEL_74a561bf2c0d41a0b95cbf7bd37b4bd1",
       "IPY_MODEL_02412fa82c29432f8fcf84861b127e2a"
      ],
      "layout": "IPY_MODEL_95c0929d24c94843b4d5340187ac39bd"
     }
    },
    "0e49350369fe4613a3f331cc4ea14c4e": {
     "model_module": "@jupyter-widgets/controls",
     "model_module_version": "1.5.0",
     "model_name": "HBoxModel",
     "state": {
      "_dom_classes": [],
      "_model_module": "@jupyter-widgets/controls",
      "_model_module_version": "1.5.0",
      "_model_name": "HBoxModel",
      "_view_count": null,
      "_view_module": "@jupyter-widgets/controls",
      "_view_module_version": "1.5.0",
      "_view_name": "HBoxView",
      "box_style": "",
      "children": [
       "IPY_MODEL_7f63b38fba6f4cc29455a9d1705f3398",
       "IPY_MODEL_bce8322445694b1b8948db743cfb5347",
       "IPY_MODEL_d8bf8cb851024447a01a2b2537ae50bd"
      ],
      "layout": "IPY_MODEL_f1cd141054a5460385c7418abb6a1bb5"
     }
    },
    "15d6a8a512d24407b3c6e2db241ed28b": {
     "model_module": "@jupyter-widgets/controls",
     "model_module_version": "1.5.0",
     "model_name": "HTMLModel",
     "state": {
      "_dom_classes": [],
      "_model_module": "@jupyter-widgets/controls",
      "_model_module_version": "1.5.0",
      "_model_name": "HTMLModel",
      "_view_count": null,
      "_view_module": "@jupyter-widgets/controls",
      "_view_module_version": "1.5.0",
      "_view_name": "HTMLView",
      "description": "",
      "description_tooltip": null,
      "layout": "IPY_MODEL_a6978872f1fd4b9c97c7245b9473d9fc",
      "placeholder": "​",
      "style": "IPY_MODEL_19a43659bce04880b723072d4e8f7f9b",
      "value": " 436M/436M [00:01&lt;00:00, 291MB/s]"
     }
    },
    "19a43659bce04880b723072d4e8f7f9b": {
     "model_module": "@jupyter-widgets/controls",
     "model_module_version": "1.5.0",
     "model_name": "DescriptionStyleModel",
     "state": {
      "_model_module": "@jupyter-widgets/controls",
      "_model_module_version": "1.5.0",
      "_model_name": "DescriptionStyleModel",
      "_view_count": null,
      "_view_module": "@jupyter-widgets/base",
      "_view_module_version": "1.2.0",
      "_view_name": "StyleView",
      "description_width": ""
     }
    },
    "27be5a9925af452a9e739908c63f1288": {
     "model_module": "@jupyter-widgets/controls",
     "model_module_version": "1.5.0",
     "model_name": "FloatProgressModel",
     "state": {
      "_dom_classes": [],
      "_model_module": "@jupyter-widgets/controls",
      "_model_module_version": "1.5.0",
      "_model_name": "FloatProgressModel",
      "_view_count": null,
      "_view_module": "@jupyter-widgets/controls",
      "_view_module_version": "1.5.0",
      "_view_name": "ProgressView",
      "bar_style": "success",
      "description": "",
      "description_tooltip": null,
      "layout": "IPY_MODEL_8e0fb0ff51bb45049d2dfdd14dd793cd",
      "max": 29,
      "min": 0,
      "orientation": "horizontal",
      "style": "IPY_MODEL_7fe141e3d01b47519366c55835f76ae6",
      "value": 29
     }
    },
    "2fb34d22d63d4b018070f9566a30e9e9": {
     "model_module": "@jupyter-widgets/base",
     "model_module_version": "1.2.0",
     "model_name": "LayoutModel",
     "state": {
      "_model_module": "@jupyter-widgets/base",
      "_model_module_version": "1.2.0",
      "_model_name": "LayoutModel",
      "_view_count": null,
      "_view_module": "@jupyter-widgets/base",
      "_view_module_version": "1.2.0",
      "_view_name": "LayoutView",
      "align_content": null,
      "align_items": null,
      "align_self": null,
      "border": null,
      "bottom": null,
      "display": null,
      "flex": null,
      "flex_flow": null,
      "grid_area": null,
      "grid_auto_columns": null,
      "grid_auto_flow": null,
      "grid_auto_rows": null,
      "grid_column": null,
      "grid_gap": null,
      "grid_row": null,
      "grid_template_areas": null,
      "grid_template_columns": null,
      "grid_template_rows": null,
      "height": null,
      "justify_content": null,
      "justify_items": null,
      "left": null,
      "margin": null,
      "max_height": null,
      "max_width": null,
      "min_height": null,
      "min_width": null,
      "object_fit": null,
      "object_position": null,
      "order": null,
      "overflow": null,
      "overflow_x": null,
      "overflow_y": null,
      "padding": null,
      "right": null,
      "top": null,
      "visibility": null,
      "width": null
     }
    },
    "39b88d8907894c4abf44aa3b443a1dc4": {
     "model_module": "@jupyter-widgets/base",
     "model_module_version": "1.2.0",
     "model_name": "LayoutModel",
     "state": {
      "_model_module": "@jupyter-widgets/base",
      "_model_module_version": "1.2.0",
      "_model_name": "LayoutModel",
      "_view_count": null,
      "_view_module": "@jupyter-widgets/base",
      "_view_module_version": "1.2.0",
      "_view_name": "LayoutView",
      "align_content": null,
      "align_items": null,
      "align_self": null,
      "border": null,
      "bottom": null,
      "display": null,
      "flex": null,
      "flex_flow": null,
      "grid_area": null,
      "grid_auto_columns": null,
      "grid_auto_flow": null,
      "grid_auto_rows": null,
      "grid_column": null,
      "grid_gap": null,
      "grid_row": null,
      "grid_template_areas": null,
      "grid_template_columns": null,
      "grid_template_rows": null,
      "height": null,
      "justify_content": null,
      "justify_items": null,
      "left": null,
      "margin": null,
      "max_height": null,
      "max_width": null,
      "min_height": null,
      "min_width": null,
      "object_fit": null,
      "object_position": null,
      "order": null,
      "overflow": null,
      "overflow_x": null,
      "overflow_y": null,
      "padding": null,
      "right": null,
      "top": null,
      "visibility": null,
      "width": null
     }
    },
    "3b99010babc742eea74b2343e2e02eaa": {
     "model_module": "@jupyter-widgets/controls",
     "model_module_version": "1.5.0",
     "model_name": "DescriptionStyleModel",
     "state": {
      "_model_module": "@jupyter-widgets/controls",
      "_model_module_version": "1.5.0",
      "_model_name": "DescriptionStyleModel",
      "_view_count": null,
      "_view_module": "@jupyter-widgets/base",
      "_view_module_version": "1.2.0",
      "_view_name": "StyleView",
      "description_width": ""
     }
    },
    "442a29b09939445c9e40f72a1c9c81b7": {
     "model_module": "@jupyter-widgets/controls",
     "model_module_version": "1.5.0",
     "model_name": "DescriptionStyleModel",
     "state": {
      "_model_module": "@jupyter-widgets/controls",
      "_model_module_version": "1.5.0",
      "_model_name": "DescriptionStyleModel",
      "_view_count": null,
      "_view_module": "@jupyter-widgets/base",
      "_view_module_version": "1.2.0",
      "_view_name": "StyleView",
      "description_width": ""
     }
    },
    "4817d872d21944acbcd9e5140dd10d71": {
     "model_module": "@jupyter-widgets/base",
     "model_module_version": "1.2.0",
     "model_name": "LayoutModel",
     "state": {
      "_model_module": "@jupyter-widgets/base",
      "_model_module_version": "1.2.0",
      "_model_name": "LayoutModel",
      "_view_count": null,
      "_view_module": "@jupyter-widgets/base",
      "_view_module_version": "1.2.0",
      "_view_name": "LayoutView",
      "align_content": null,
      "align_items": null,
      "align_self": null,
      "border": null,
      "bottom": null,
      "display": null,
      "flex": null,
      "flex_flow": null,
      "grid_area": null,
      "grid_auto_columns": null,
      "grid_auto_flow": null,
      "grid_auto_rows": null,
      "grid_column": null,
      "grid_gap": null,
      "grid_row": null,
      "grid_template_areas": null,
      "grid_template_columns": null,
      "grid_template_rows": null,
      "height": null,
      "justify_content": null,
      "justify_items": null,
      "left": null,
      "margin": null,
      "max_height": null,
      "max_width": null,
      "min_height": null,
      "min_width": null,
      "object_fit": null,
      "object_position": null,
      "order": null,
      "overflow": null,
      "overflow_x": null,
      "overflow_y": null,
      "padding": null,
      "right": null,
      "top": null,
      "visibility": null,
      "width": null
     }
    },
    "57cc83119a0a45a58e7360db04f6c41a": {
     "model_module": "@jupyter-widgets/controls",
     "model_module_version": "1.5.0",
     "model_name": "HBoxModel",
     "state": {
      "_dom_classes": [],
      "_model_module": "@jupyter-widgets/controls",
      "_model_module_version": "1.5.0",
      "_model_name": "HBoxModel",
      "_view_count": null,
      "_view_module": "@jupyter-widgets/controls",
      "_view_module_version": "1.5.0",
      "_view_name": "HBoxView",
      "box_style": "",
      "children": [
       "IPY_MODEL_cca391b6cc6f406e909ef1bcc1c6fee1",
       "IPY_MODEL_27be5a9925af452a9e739908c63f1288",
       "IPY_MODEL_fec658560f6d408e936668df52893343"
      ],
      "layout": "IPY_MODEL_39b88d8907894c4abf44aa3b443a1dc4"
     }
    },
    "5f3835128c5b4895b4ab261a75c0cc33": {
     "model_module": "@jupyter-widgets/base",
     "model_module_version": "1.2.0",
     "model_name": "LayoutModel",
     "state": {
      "_model_module": "@jupyter-widgets/base",
      "_model_module_version": "1.2.0",
      "_model_name": "LayoutModel",
      "_view_count": null,
      "_view_module": "@jupyter-widgets/base",
      "_view_module_version": "1.2.0",
      "_view_name": "LayoutView",
      "align_content": null,
      "align_items": null,
      "align_self": null,
      "border": null,
      "bottom": null,
      "display": null,
      "flex": null,
      "flex_flow": null,
      "grid_area": null,
      "grid_auto_columns": null,
      "grid_auto_flow": null,
      "grid_auto_rows": null,
      "grid_column": null,
      "grid_gap": null,
      "grid_row": null,
      "grid_template_areas": null,
      "grid_template_columns": null,
      "grid_template_rows": null,
      "height": null,
      "justify_content": null,
      "justify_items": null,
      "left": null,
      "margin": null,
      "max_height": null,
      "max_width": null,
      "min_height": null,
      "min_width": null,
      "object_fit": null,
      "object_position": null,
      "order": null,
      "overflow": null,
      "overflow_x": null,
      "overflow_y": null,
      "padding": null,
      "right": null,
      "top": null,
      "visibility": null,
      "width": null
     }
    },
    "60815cd7e03b470a91f285fb4cc9c410": {
     "model_module": "@jupyter-widgets/controls",
     "model_module_version": "1.5.0",
     "model_name": "DescriptionStyleModel",
     "state": {
      "_model_module": "@jupyter-widgets/controls",
      "_model_module_version": "1.5.0",
      "_model_name": "DescriptionStyleModel",
      "_view_count": null,
      "_view_module": "@jupyter-widgets/base",
      "_view_module_version": "1.2.0",
      "_view_name": "StyleView",
      "description_width": ""
     }
    },
    "69dd14932b0f4d039929732a13d9c830": {
     "model_module": "@jupyter-widgets/base",
     "model_module_version": "1.2.0",
     "model_name": "LayoutModel",
     "state": {
      "_model_module": "@jupyter-widgets/base",
      "_model_module_version": "1.2.0",
      "_model_name": "LayoutModel",
      "_view_count": null,
      "_view_module": "@jupyter-widgets/base",
      "_view_module_version": "1.2.0",
      "_view_name": "LayoutView",
      "align_content": null,
      "align_items": null,
      "align_self": null,
      "border": null,
      "bottom": null,
      "display": null,
      "flex": null,
      "flex_flow": null,
      "grid_area": null,
      "grid_auto_columns": null,
      "grid_auto_flow": null,
      "grid_auto_rows": null,
      "grid_column": null,
      "grid_gap": null,
      "grid_row": null,
      "grid_template_areas": null,
      "grid_template_columns": null,
      "grid_template_rows": null,
      "height": null,
      "justify_content": null,
      "justify_items": null,
      "left": null,
      "margin": null,
      "max_height": null,
      "max_width": null,
      "min_height": null,
      "min_width": null,
      "object_fit": null,
      "object_position": null,
      "order": null,
      "overflow": null,
      "overflow_x": null,
      "overflow_y": null,
      "padding": null,
      "right": null,
      "top": null,
      "visibility": null,
      "width": null
     }
    },
    "724d1f2d5c3945bb9da341539d496e21": {
     "model_module": "@jupyter-widgets/controls",
     "model_module_version": "1.5.0",
     "model_name": "FloatProgressModel",
     "state": {
      "_dom_classes": [],
      "_model_module": "@jupyter-widgets/controls",
      "_model_module_version": "1.5.0",
      "_model_name": "FloatProgressModel",
      "_view_count": null,
      "_view_module": "@jupyter-widgets/controls",
      "_view_module_version": "1.5.0",
      "_view_name": "ProgressView",
      "bar_style": "success",
      "description": "",
      "description_tooltip": null,
      "layout": "IPY_MODEL_e3b431a5e7714b53888305dca2619f3c",
      "max": 435755784,
      "min": 0,
      "orientation": "horizontal",
      "style": "IPY_MODEL_7baaa4bf34794ca38dddf0ecb11b2720",
      "value": 435755784
     }
    },
    "729bddba142f4effbddd4a5d0ffe4315": {
     "model_module": "@jupyter-widgets/controls",
     "model_module_version": "1.5.0",
     "model_name": "DescriptionStyleModel",
     "state": {
      "_model_module": "@jupyter-widgets/controls",
      "_model_module_version": "1.5.0",
      "_model_name": "DescriptionStyleModel",
      "_view_count": null,
      "_view_module": "@jupyter-widgets/base",
      "_view_module_version": "1.2.0",
      "_view_name": "StyleView",
      "description_width": ""
     }
    },
    "74a561bf2c0d41a0b95cbf7bd37b4bd1": {
     "model_module": "@jupyter-widgets/controls",
     "model_module_version": "1.5.0",
     "model_name": "FloatProgressModel",
     "state": {
      "_dom_classes": [],
      "_model_module": "@jupyter-widgets/controls",
      "_model_module_version": "1.5.0",
      "_model_name": "FloatProgressModel",
      "_view_count": null,
      "_view_module": "@jupyter-widgets/controls",
      "_view_module_version": "1.5.0",
      "_view_name": "ProgressView",
      "bar_style": "success",
      "description": "",
      "description_tooltip": null,
      "layout": "IPY_MODEL_d11f0500087644e293e29887e3c55d97",
      "max": 570,
      "min": 0,
      "orientation": "horizontal",
      "style": "IPY_MODEL_768eef136e764345864a62db0c567159",
      "value": 570
     }
    },
    "768eef136e764345864a62db0c567159": {
     "model_module": "@jupyter-widgets/controls",
     "model_module_version": "1.5.0",
     "model_name": "ProgressStyleModel",
     "state": {
      "_model_module": "@jupyter-widgets/controls",
      "_model_module_version": "1.5.0",
      "_model_name": "ProgressStyleModel",
      "_view_count": null,
      "_view_module": "@jupyter-widgets/base",
      "_view_module_version": "1.2.0",
      "_view_name": "StyleView",
      "bar_color": null,
      "description_width": ""
     }
    },
    "7baaa4bf34794ca38dddf0ecb11b2720": {
     "model_module": "@jupyter-widgets/controls",
     "model_module_version": "1.5.0",
     "model_name": "ProgressStyleModel",
     "state": {
      "_model_module": "@jupyter-widgets/controls",
      "_model_module_version": "1.5.0",
      "_model_name": "ProgressStyleModel",
      "_view_count": null,
      "_view_module": "@jupyter-widgets/base",
      "_view_module_version": "1.2.0",
      "_view_name": "StyleView",
      "bar_color": null,
      "description_width": ""
     }
    },
    "7f63b38fba6f4cc29455a9d1705f3398": {
     "model_module": "@jupyter-widgets/controls",
     "model_module_version": "1.5.0",
     "model_name": "HTMLModel",
     "state": {
      "_dom_classes": [],
      "_model_module": "@jupyter-widgets/controls",
      "_model_module_version": "1.5.0",
      "_model_name": "HTMLModel",
      "_view_count": null,
      "_view_module": "@jupyter-widgets/controls",
      "_view_module_version": "1.5.0",
      "_view_name": "HTMLView",
      "description": "",
      "description_tooltip": null,
      "layout": "IPY_MODEL_e47ea429843c40e7bab6b5b7a822594a",
      "placeholder": "​",
      "style": "IPY_MODEL_442a29b09939445c9e40f72a1c9c81b7",
      "value": "Downloading (…)solve/main/vocab.txt: 100%"
     }
    },
    "7f763029ca0e4f9d919aefe32a3fad78": {
     "model_module": "@jupyter-widgets/controls",
     "model_module_version": "1.5.0",
     "model_name": "DescriptionStyleModel",
     "state": {
      "_model_module": "@jupyter-widgets/controls",
      "_model_module_version": "1.5.0",
      "_model_name": "DescriptionStyleModel",
      "_view_count": null,
      "_view_module": "@jupyter-widgets/base",
      "_view_module_version": "1.2.0",
      "_view_name": "StyleView",
      "description_width": ""
     }
    },
    "7fc6008e30e742df864435bbe11f74d9": {
     "model_module": "@jupyter-widgets/base",
     "model_module_version": "1.2.0",
     "model_name": "LayoutModel",
     "state": {
      "_model_module": "@jupyter-widgets/base",
      "_model_module_version": "1.2.0",
      "_model_name": "LayoutModel",
      "_view_count": null,
      "_view_module": "@jupyter-widgets/base",
      "_view_module_version": "1.2.0",
      "_view_name": "LayoutView",
      "align_content": null,
      "align_items": null,
      "align_self": null,
      "border": null,
      "bottom": null,
      "display": null,
      "flex": null,
      "flex_flow": null,
      "grid_area": null,
      "grid_auto_columns": null,
      "grid_auto_flow": null,
      "grid_auto_rows": null,
      "grid_column": null,
      "grid_gap": null,
      "grid_row": null,
      "grid_template_areas": null,
      "grid_template_columns": null,
      "grid_template_rows": null,
      "height": null,
      "justify_content": null,
      "justify_items": null,
      "left": null,
      "margin": null,
      "max_height": null,
      "max_width": null,
      "min_height": null,
      "min_width": null,
      "object_fit": null,
      "object_position": null,
      "order": null,
      "overflow": null,
      "overflow_x": null,
      "overflow_y": null,
      "padding": null,
      "right": null,
      "top": null,
      "visibility": null,
      "width": null
     }
    },
    "7fe141e3d01b47519366c55835f76ae6": {
     "model_module": "@jupyter-widgets/controls",
     "model_module_version": "1.5.0",
     "model_name": "ProgressStyleModel",
     "state": {
      "_model_module": "@jupyter-widgets/controls",
      "_model_module_version": "1.5.0",
      "_model_name": "ProgressStyleModel",
      "_view_count": null,
      "_view_module": "@jupyter-widgets/base",
      "_view_module_version": "1.2.0",
      "_view_name": "StyleView",
      "bar_color": null,
      "description_width": ""
     }
    },
    "8d4b441022c6493bbb614725d765ccdf": {
     "model_module": "@jupyter-widgets/base",
     "model_module_version": "1.2.0",
     "model_name": "LayoutModel",
     "state": {
      "_model_module": "@jupyter-widgets/base",
      "_model_module_version": "1.2.0",
      "_model_name": "LayoutModel",
      "_view_count": null,
      "_view_module": "@jupyter-widgets/base",
      "_view_module_version": "1.2.0",
      "_view_name": "LayoutView",
      "align_content": null,
      "align_items": null,
      "align_self": null,
      "border": null,
      "bottom": null,
      "display": null,
      "flex": null,
      "flex_flow": null,
      "grid_area": null,
      "grid_auto_columns": null,
      "grid_auto_flow": null,
      "grid_auto_rows": null,
      "grid_column": null,
      "grid_gap": null,
      "grid_row": null,
      "grid_template_areas": null,
      "grid_template_columns": null,
      "grid_template_rows": null,
      "height": null,
      "justify_content": null,
      "justify_items": null,
      "left": null,
      "margin": null,
      "max_height": null,
      "max_width": null,
      "min_height": null,
      "min_width": null,
      "object_fit": null,
      "object_position": null,
      "order": null,
      "overflow": null,
      "overflow_x": null,
      "overflow_y": null,
      "padding": null,
      "right": null,
      "top": null,
      "visibility": null,
      "width": null
     }
    },
    "8e0fb0ff51bb45049d2dfdd14dd793cd": {
     "model_module": "@jupyter-widgets/base",
     "model_module_version": "1.2.0",
     "model_name": "LayoutModel",
     "state": {
      "_model_module": "@jupyter-widgets/base",
      "_model_module_version": "1.2.0",
      "_model_name": "LayoutModel",
      "_view_count": null,
      "_view_module": "@jupyter-widgets/base",
      "_view_module_version": "1.2.0",
      "_view_name": "LayoutView",
      "align_content": null,
      "align_items": null,
      "align_self": null,
      "border": null,
      "bottom": null,
      "display": null,
      "flex": null,
      "flex_flow": null,
      "grid_area": null,
      "grid_auto_columns": null,
      "grid_auto_flow": null,
      "grid_auto_rows": null,
      "grid_column": null,
      "grid_gap": null,
      "grid_row": null,
      "grid_template_areas": null,
      "grid_template_columns": null,
      "grid_template_rows": null,
      "height": null,
      "justify_content": null,
      "justify_items": null,
      "left": null,
      "margin": null,
      "max_height": null,
      "max_width": null,
      "min_height": null,
      "min_width": null,
      "object_fit": null,
      "object_position": null,
      "order": null,
      "overflow": null,
      "overflow_x": null,
      "overflow_y": null,
      "padding": null,
      "right": null,
      "top": null,
      "visibility": null,
      "width": null
     }
    },
    "9374e6da023f4f30a3c747d2404c18aa": {
     "model_module": "@jupyter-widgets/base",
     "model_module_version": "1.2.0",
     "model_name": "LayoutModel",
     "state": {
      "_model_module": "@jupyter-widgets/base",
      "_model_module_version": "1.2.0",
      "_model_name": "LayoutModel",
      "_view_count": null,
      "_view_module": "@jupyter-widgets/base",
      "_view_module_version": "1.2.0",
      "_view_name": "LayoutView",
      "align_content": null,
      "align_items": null,
      "align_self": null,
      "border": null,
      "bottom": null,
      "display": null,
      "flex": null,
      "flex_flow": null,
      "grid_area": null,
      "grid_auto_columns": null,
      "grid_auto_flow": null,
      "grid_auto_rows": null,
      "grid_column": null,
      "grid_gap": null,
      "grid_row": null,
      "grid_template_areas": null,
      "grid_template_columns": null,
      "grid_template_rows": null,
      "height": null,
      "justify_content": null,
      "justify_items": null,
      "left": null,
      "margin": null,
      "max_height": null,
      "max_width": null,
      "min_height": null,
      "min_width": null,
      "object_fit": null,
      "object_position": null,
      "order": null,
      "overflow": null,
      "overflow_x": null,
      "overflow_y": null,
      "padding": null,
      "right": null,
      "top": null,
      "visibility": null,
      "width": null
     }
    },
    "9477eab762bd41b3992d830c7f0dad74": {
     "model_module": "@jupyter-widgets/controls",
     "model_module_version": "1.5.0",
     "model_name": "HTMLModel",
     "state": {
      "_dom_classes": [],
      "_model_module": "@jupyter-widgets/controls",
      "_model_module_version": "1.5.0",
      "_model_name": "HTMLModel",
      "_view_count": null,
      "_view_module": "@jupyter-widgets/controls",
      "_view_module_version": "1.5.0",
      "_view_name": "HTMLView",
      "description": "",
      "description_tooltip": null,
      "layout": "IPY_MODEL_7fc6008e30e742df864435bbe11f74d9",
      "placeholder": "​",
      "style": "IPY_MODEL_ba8a5c44816642a98d339ea4d422085d",
      "value": "Downloading (…)lve/main/config.json: 100%"
     }
    },
    "95c0929d24c94843b4d5340187ac39bd": {
     "model_module": "@jupyter-widgets/base",
     "model_module_version": "1.2.0",
     "model_name": "LayoutModel",
     "state": {
      "_model_module": "@jupyter-widgets/base",
      "_model_module_version": "1.2.0",
      "_model_name": "LayoutModel",
      "_view_count": null,
      "_view_module": "@jupyter-widgets/base",
      "_view_module_version": "1.2.0",
      "_view_name": "LayoutView",
      "align_content": null,
      "align_items": null,
      "align_self": null,
      "border": null,
      "bottom": null,
      "display": null,
      "flex": null,
      "flex_flow": null,
      "grid_area": null,
      "grid_auto_columns": null,
      "grid_auto_flow": null,
      "grid_auto_rows": null,
      "grid_column": null,
      "grid_gap": null,
      "grid_row": null,
      "grid_template_areas": null,
      "grid_template_columns": null,
      "grid_template_rows": null,
      "height": null,
      "justify_content": null,
      "justify_items": null,
      "left": null,
      "margin": null,
      "max_height": null,
      "max_width": null,
      "min_height": null,
      "min_width": null,
      "object_fit": null,
      "object_position": null,
      "order": null,
      "overflow": null,
      "overflow_x": null,
      "overflow_y": null,
      "padding": null,
      "right": null,
      "top": null,
      "visibility": null,
      "width": null
     }
    },
    "a5b1491b4cdb4b468d459728f326807c": {
     "model_module": "@jupyter-widgets/controls",
     "model_module_version": "1.5.0",
     "model_name": "DescriptionStyleModel",
     "state": {
      "_model_module": "@jupyter-widgets/controls",
      "_model_module_version": "1.5.0",
      "_model_name": "DescriptionStyleModel",
      "_view_count": null,
      "_view_module": "@jupyter-widgets/base",
      "_view_module_version": "1.2.0",
      "_view_name": "StyleView",
      "description_width": ""
     }
    },
    "a6978872f1fd4b9c97c7245b9473d9fc": {
     "model_module": "@jupyter-widgets/base",
     "model_module_version": "1.2.0",
     "model_name": "LayoutModel",
     "state": {
      "_model_module": "@jupyter-widgets/base",
      "_model_module_version": "1.2.0",
      "_model_name": "LayoutModel",
      "_view_count": null,
      "_view_module": "@jupyter-widgets/base",
      "_view_module_version": "1.2.0",
      "_view_name": "LayoutView",
      "align_content": null,
      "align_items": null,
      "align_self": null,
      "border": null,
      "bottom": null,
      "display": null,
      "flex": null,
      "flex_flow": null,
      "grid_area": null,
      "grid_auto_columns": null,
      "grid_auto_flow": null,
      "grid_auto_rows": null,
      "grid_column": null,
      "grid_gap": null,
      "grid_row": null,
      "grid_template_areas": null,
      "grid_template_columns": null,
      "grid_template_rows": null,
      "height": null,
      "justify_content": null,
      "justify_items": null,
      "left": null,
      "margin": null,
      "max_height": null,
      "max_width": null,
      "min_height": null,
      "min_width": null,
      "object_fit": null,
      "object_position": null,
      "order": null,
      "overflow": null,
      "overflow_x": null,
      "overflow_y": null,
      "padding": null,
      "right": null,
      "top": null,
      "visibility": null,
      "width": null
     }
    },
    "aa563cfab83842fa93f5c2f747e3ab24": {
     "model_module": "@jupyter-widgets/controls",
     "model_module_version": "1.5.0",
     "model_name": "HTMLModel",
     "state": {
      "_dom_classes": [],
      "_model_module": "@jupyter-widgets/controls",
      "_model_module_version": "1.5.0",
      "_model_name": "HTMLModel",
      "_view_count": null,
      "_view_module": "@jupyter-widgets/controls",
      "_view_module_version": "1.5.0",
      "_view_name": "HTMLView",
      "description": "",
      "description_tooltip": null,
      "layout": "IPY_MODEL_5f3835128c5b4895b4ab261a75c0cc33",
      "placeholder": "​",
      "style": "IPY_MODEL_a5b1491b4cdb4b468d459728f326807c",
      "value": "Downloading model.safetensors: 100%"
     }
    },
    "b5b2e1dbdb2e463d9fdbdbd70151f723": {
     "model_module": "@jupyter-widgets/base",
     "model_module_version": "1.2.0",
     "model_name": "LayoutModel",
     "state": {
      "_model_module": "@jupyter-widgets/base",
      "_model_module_version": "1.2.0",
      "_model_name": "LayoutModel",
      "_view_count": null,
      "_view_module": "@jupyter-widgets/base",
      "_view_module_version": "1.2.0",
      "_view_name": "LayoutView",
      "align_content": null,
      "align_items": null,
      "align_self": null,
      "border": null,
      "bottom": null,
      "display": null,
      "flex": null,
      "flex_flow": null,
      "grid_area": null,
      "grid_auto_columns": null,
      "grid_auto_flow": null,
      "grid_auto_rows": null,
      "grid_column": null,
      "grid_gap": null,
      "grid_row": null,
      "grid_template_areas": null,
      "grid_template_columns": null,
      "grid_template_rows": null,
      "height": null,
      "justify_content": null,
      "justify_items": null,
      "left": null,
      "margin": null,
      "max_height": null,
      "max_width": null,
      "min_height": null,
      "min_width": null,
      "object_fit": null,
      "object_position": null,
      "order": null,
      "overflow": null,
      "overflow_x": null,
      "overflow_y": null,
      "padding": null,
      "right": null,
      "top": null,
      "visibility": null,
      "width": null
     }
    },
    "ba8a5c44816642a98d339ea4d422085d": {
     "model_module": "@jupyter-widgets/controls",
     "model_module_version": "1.5.0",
     "model_name": "DescriptionStyleModel",
     "state": {
      "_model_module": "@jupyter-widgets/controls",
      "_model_module_version": "1.5.0",
      "_model_name": "DescriptionStyleModel",
      "_view_count": null,
      "_view_module": "@jupyter-widgets/base",
      "_view_module_version": "1.2.0",
      "_view_name": "StyleView",
      "description_width": ""
     }
    },
    "bce8322445694b1b8948db743cfb5347": {
     "model_module": "@jupyter-widgets/controls",
     "model_module_version": "1.5.0",
     "model_name": "FloatProgressModel",
     "state": {
      "_dom_classes": [],
      "_model_module": "@jupyter-widgets/controls",
      "_model_module_version": "1.5.0",
      "_model_name": "FloatProgressModel",
      "_view_count": null,
      "_view_module": "@jupyter-widgets/controls",
      "_view_module_version": "1.5.0",
      "_view_name": "ProgressView",
      "bar_style": "success",
      "description": "",
      "description_tooltip": null,
      "layout": "IPY_MODEL_4817d872d21944acbcd9e5140dd10d71",
      "max": 213450,
      "min": 0,
      "orientation": "horizontal",
      "style": "IPY_MODEL_eea2f74634034b248f28a76d60acc2d2",
      "value": 213450
     }
    },
    "cca391b6cc6f406e909ef1bcc1c6fee1": {
     "model_module": "@jupyter-widgets/controls",
     "model_module_version": "1.5.0",
     "model_name": "HTMLModel",
     "state": {
      "_dom_classes": [],
      "_model_module": "@jupyter-widgets/controls",
      "_model_module_version": "1.5.0",
      "_model_name": "HTMLModel",
      "_view_count": null,
      "_view_module": "@jupyter-widgets/controls",
      "_view_module_version": "1.5.0",
      "_view_name": "HTMLView",
      "description": "",
      "description_tooltip": null,
      "layout": "IPY_MODEL_8d4b441022c6493bbb614725d765ccdf",
      "placeholder": "​",
      "style": "IPY_MODEL_3b99010babc742eea74b2343e2e02eaa",
      "value": "Downloading (…)okenizer_config.json: 100%"
     }
    },
    "d11f0500087644e293e29887e3c55d97": {
     "model_module": "@jupyter-widgets/base",
     "model_module_version": "1.2.0",
     "model_name": "LayoutModel",
     "state": {
      "_model_module": "@jupyter-widgets/base",
      "_model_module_version": "1.2.0",
      "_model_name": "LayoutModel",
      "_view_count": null,
      "_view_module": "@jupyter-widgets/base",
      "_view_module_version": "1.2.0",
      "_view_name": "LayoutView",
      "align_content": null,
      "align_items": null,
      "align_self": null,
      "border": null,
      "bottom": null,
      "display": null,
      "flex": null,
      "flex_flow": null,
      "grid_area": null,
      "grid_auto_columns": null,
      "grid_auto_flow": null,
      "grid_auto_rows": null,
      "grid_column": null,
      "grid_gap": null,
      "grid_row": null,
      "grid_template_areas": null,
      "grid_template_columns": null,
      "grid_template_rows": null,
      "height": null,
      "justify_content": null,
      "justify_items": null,
      "left": null,
      "margin": null,
      "max_height": null,
      "max_width": null,
      "min_height": null,
      "min_width": null,
      "object_fit": null,
      "object_position": null,
      "order": null,
      "overflow": null,
      "overflow_x": null,
      "overflow_y": null,
      "padding": null,
      "right": null,
      "top": null,
      "visibility": null,
      "width": null
     }
    },
    "d8bf8cb851024447a01a2b2537ae50bd": {
     "model_module": "@jupyter-widgets/controls",
     "model_module_version": "1.5.0",
     "model_name": "HTMLModel",
     "state": {
      "_dom_classes": [],
      "_model_module": "@jupyter-widgets/controls",
      "_model_module_version": "1.5.0",
      "_model_name": "HTMLModel",
      "_view_count": null,
      "_view_module": "@jupyter-widgets/controls",
      "_view_module_version": "1.5.0",
      "_view_name": "HTMLView",
      "description": "",
      "description_tooltip": null,
      "layout": "IPY_MODEL_2fb34d22d63d4b018070f9566a30e9e9",
      "placeholder": "​",
      "style": "IPY_MODEL_729bddba142f4effbddd4a5d0ffe4315",
      "value": " 213k/213k [00:00&lt;00:00, 4.78MB/s]"
     }
    },
    "e3b431a5e7714b53888305dca2619f3c": {
     "model_module": "@jupyter-widgets/base",
     "model_module_version": "1.2.0",
     "model_name": "LayoutModel",
     "state": {
      "_model_module": "@jupyter-widgets/base",
      "_model_module_version": "1.2.0",
      "_model_name": "LayoutModel",
      "_view_count": null,
      "_view_module": "@jupyter-widgets/base",
      "_view_module_version": "1.2.0",
      "_view_name": "LayoutView",
      "align_content": null,
      "align_items": null,
      "align_self": null,
      "border": null,
      "bottom": null,
      "display": null,
      "flex": null,
      "flex_flow": null,
      "grid_area": null,
      "grid_auto_columns": null,
      "grid_auto_flow": null,
      "grid_auto_rows": null,
      "grid_column": null,
      "grid_gap": null,
      "grid_row": null,
      "grid_template_areas": null,
      "grid_template_columns": null,
      "grid_template_rows": null,
      "height": null,
      "justify_content": null,
      "justify_items": null,
      "left": null,
      "margin": null,
      "max_height": null,
      "max_width": null,
      "min_height": null,
      "min_width": null,
      "object_fit": null,
      "object_position": null,
      "order": null,
      "overflow": null,
      "overflow_x": null,
      "overflow_y": null,
      "padding": null,
      "right": null,
      "top": null,
      "visibility": null,
      "width": null
     }
    },
    "e47ea429843c40e7bab6b5b7a822594a": {
     "model_module": "@jupyter-widgets/base",
     "model_module_version": "1.2.0",
     "model_name": "LayoutModel",
     "state": {
      "_model_module": "@jupyter-widgets/base",
      "_model_module_version": "1.2.0",
      "_model_name": "LayoutModel",
      "_view_count": null,
      "_view_module": "@jupyter-widgets/base",
      "_view_module_version": "1.2.0",
      "_view_name": "LayoutView",
      "align_content": null,
      "align_items": null,
      "align_self": null,
      "border": null,
      "bottom": null,
      "display": null,
      "flex": null,
      "flex_flow": null,
      "grid_area": null,
      "grid_auto_columns": null,
      "grid_auto_flow": null,
      "grid_auto_rows": null,
      "grid_column": null,
      "grid_gap": null,
      "grid_row": null,
      "grid_template_areas": null,
      "grid_template_columns": null,
      "grid_template_rows": null,
      "height": null,
      "justify_content": null,
      "justify_items": null,
      "left": null,
      "margin": null,
      "max_height": null,
      "max_width": null,
      "min_height": null,
      "min_width": null,
      "object_fit": null,
      "object_position": null,
      "order": null,
      "overflow": null,
      "overflow_x": null,
      "overflow_y": null,
      "padding": null,
      "right": null,
      "top": null,
      "visibility": null,
      "width": null
     }
    },
    "eea2f74634034b248f28a76d60acc2d2": {
     "model_module": "@jupyter-widgets/controls",
     "model_module_version": "1.5.0",
     "model_name": "ProgressStyleModel",
     "state": {
      "_model_module": "@jupyter-widgets/controls",
      "_model_module_version": "1.5.0",
      "_model_name": "ProgressStyleModel",
      "_view_count": null,
      "_view_module": "@jupyter-widgets/base",
      "_view_module_version": "1.2.0",
      "_view_name": "StyleView",
      "bar_color": null,
      "description_width": ""
     }
    },
    "f1cd141054a5460385c7418abb6a1bb5": {
     "model_module": "@jupyter-widgets/base",
     "model_module_version": "1.2.0",
     "model_name": "LayoutModel",
     "state": {
      "_model_module": "@jupyter-widgets/base",
      "_model_module_version": "1.2.0",
      "_model_name": "LayoutModel",
      "_view_count": null,
      "_view_module": "@jupyter-widgets/base",
      "_view_module_version": "1.2.0",
      "_view_name": "LayoutView",
      "align_content": null,
      "align_items": null,
      "align_self": null,
      "border": null,
      "bottom": null,
      "display": null,
      "flex": null,
      "flex_flow": null,
      "grid_area": null,
      "grid_auto_columns": null,
      "grid_auto_flow": null,
      "grid_auto_rows": null,
      "grid_column": null,
      "grid_gap": null,
      "grid_row": null,
      "grid_template_areas": null,
      "grid_template_columns": null,
      "grid_template_rows": null,
      "height": null,
      "justify_content": null,
      "justify_items": null,
      "left": null,
      "margin": null,
      "max_height": null,
      "max_width": null,
      "min_height": null,
      "min_width": null,
      "object_fit": null,
      "object_position": null,
      "order": null,
      "overflow": null,
      "overflow_x": null,
      "overflow_y": null,
      "padding": null,
      "right": null,
      "top": null,
      "visibility": null,
      "width": null
     }
    },
    "fec658560f6d408e936668df52893343": {
     "model_module": "@jupyter-widgets/controls",
     "model_module_version": "1.5.0",
     "model_name": "HTMLModel",
     "state": {
      "_dom_classes": [],
      "_model_module": "@jupyter-widgets/controls",
      "_model_module_version": "1.5.0",
      "_model_name": "HTMLModel",
      "_view_count": null,
      "_view_module": "@jupyter-widgets/controls",
      "_view_module_version": "1.5.0",
      "_view_name": "HTMLView",
      "description": "",
      "description_tooltip": null,
      "layout": "IPY_MODEL_b5b2e1dbdb2e463d9fdbdbd70151f723",
      "placeholder": "​",
      "style": "IPY_MODEL_60815cd7e03b470a91f285fb4cc9c410",
      "value": " 29.0/29.0 [00:00&lt;00:00, 814B/s]"
     }
    }
   }
  }
 },
 "nbformat": 4,
 "nbformat_minor": 0
}
